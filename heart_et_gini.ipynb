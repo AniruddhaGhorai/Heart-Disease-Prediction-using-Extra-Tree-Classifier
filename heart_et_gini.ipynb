{
  "cells": [
    {
      "cell_type": "markdown",
      "metadata": {
        "id": "view-in-github",
        "colab_type": "text"
      },
      "source": [
        "<a href=\"https://colab.research.google.com/github/AniruddhaGhorai/Heart-Disease-Prediction-using-Extra-Tree-Classifier/blob/main/heart_et_gini.ipynb\" target=\"_parent\"><img src=\"https://colab.research.google.com/assets/colab-badge.svg\" alt=\"Open In Colab\"/></a>"
      ]
    },
    {
      "cell_type": "code",
      "execution_count": null,
      "id": "acdf3c92",
      "metadata": {
        "id": "acdf3c92"
      },
      "outputs": [],
      "source": [
        "import warnings\n",
        "warnings.filterwarnings('ignore')\n",
        "\n",
        "# data wrangling & pre-processing\n",
        "import pandas as pd\n",
        "import numpy as np\n",
        "\n",
        "# data visualization\n",
        "import matplotlib.pyplot as plt\n",
        "%matplotlib inline\n",
        "import seaborn as sns\n",
        "\n",
        "from sklearn.model_selection import train_test_split\n",
        "\n",
        "#model validation\n",
        "from sklearn.metrics import log_loss,roc_auc_score,precision_score,f1_score,recall_score,roc_curve,auc\n",
        "from sklearn.metrics import classification_report, confusion_matrix,accuracy_score,fbeta_score,matthews_corrcoef\n",
        "from sklearn import metrics\n",
        "\n",
        "# cross validation\n",
        "from sklearn.model_selection import StratifiedKFold\n",
        "\n",
        "\n",
        "\n",
        "from scipy import stats"
      ]
    },
    {
      "cell_type": "code",
      "execution_count": null,
      "id": "dd05e217",
      "metadata": {
        "id": "dd05e217"
      },
      "outputs": [],
      "source": [
        "dt = pd.read_csv('heart.csv')"
      ]
    },
    {
      "cell_type": "code",
      "execution_count": null,
      "id": "282b209a",
      "metadata": {
        "colab": {
          "base_uri": "https://localhost:8080/"
        },
        "id": "282b209a",
        "outputId": "cd7dd8db-2332-463c-d063-2053bda74019"
      },
      "outputs": [
        {
          "output_type": "stream",
          "name": "stdout",
          "text": [
            "<class 'pandas.core.frame.DataFrame'>\n",
            "RangeIndex: 1025 entries, 0 to 1024\n",
            "Data columns (total 14 columns):\n",
            " #   Column    Non-Null Count  Dtype  \n",
            "---  ------    --------------  -----  \n",
            " 0   age       1025 non-null   int64  \n",
            " 1   sex       1025 non-null   int64  \n",
            " 2   cp        1025 non-null   int64  \n",
            " 3   trestbps  1025 non-null   int64  \n",
            " 4   chol      1025 non-null   int64  \n",
            " 5   fbs       1025 non-null   int64  \n",
            " 6   restecg   1025 non-null   int64  \n",
            " 7   thalach   1025 non-null   int64  \n",
            " 8   exang     1025 non-null   int64  \n",
            " 9   oldpeak   1025 non-null   float64\n",
            " 10  slope     1025 non-null   int64  \n",
            " 11  ca        1025 non-null   int64  \n",
            " 12  thal      1025 non-null   int64  \n",
            " 13  target    1025 non-null   int64  \n",
            "dtypes: float64(1), int64(13)\n",
            "memory usage: 112.2 KB\n"
          ]
        }
      ],
      "source": [
        "dt.info()"
      ]
    },
    {
      "cell_type": "code",
      "execution_count": null,
      "id": "16e41b19",
      "metadata": {
        "id": "16e41b19"
      },
      "outputs": [],
      "source": [
        "#Class construite pour étudier et analyser l'architecture de notre dataset\n",
        "class sr_value:\n",
        "    def __init__(self,data):\n",
        "        self.dt=data\n",
        "        \n",
        "    #Valeurs prises par chaque feature     \n",
        "    def pos_value(self):\n",
        "        for i in self.dt.columns:\n",
        "            print(f'* la colonne {i} a comme valeur possible{self.dt[i].unique()}')\n",
        "            print('\\n')\n",
        "            \n",
        "    #distribution des valeurs ordinal feature \n",
        "    def ct_ord_value(self,ord_val):\n",
        "        for i in ord_val:\n",
        "            print(f' La variable ordinale {i} a comme distibution de ces valeurs le schéma suivant :\\n {self.dt[i].value_counts()}')\n",
        "            print('\\n')\n",
        "        \n",
        "    #Nombre de valeur pour chaque attribut\n",
        "    def ct_value(self):\n",
        "        for i in self.dt.columns:\n",
        "            print(f'* La colonne {i} a comme valeurs possibles : {len(self.dt[i].unique())}')\n",
        "            print('\\n')\n"
      ]
    },
    {
      "cell_type": "code",
      "execution_count": null,
      "id": "67dc159c",
      "metadata": {
        "id": "67dc159c"
      },
      "outputs": [],
      "source": [
        "# On renomme nos features par le nom au complet\n",
        "\n",
        "dt.columns = ['age', 'sex', 'chest_pain_type', 'resting_blood_pressure', 'cholesterol', 'fasting_blood_sugar', 'rest_ecg', 'max_heart_rate_achieved',\n",
        "       'exercise_induced_angina', 'st_depression', 'st_slope','nb_vessels','thal','target']"
      ]
    },
    {
      "cell_type": "code",
      "execution_count": null,
      "id": "bd5d940e",
      "metadata": {
        "colab": {
          "base_uri": "https://localhost:8080/"
        },
        "id": "bd5d940e",
        "outputId": "7f702d0a-ada2-4937-9d5b-faa99450e665"
      },
      "outputs": [
        {
          "output_type": "stream",
          "name": "stdout",
          "text": [
            "* La colonne age a comme valeurs possibles : 41\n",
            "\n",
            "\n",
            "* La colonne sex a comme valeurs possibles : 2\n",
            "\n",
            "\n",
            "* La colonne chest_pain_type a comme valeurs possibles : 4\n",
            "\n",
            "\n",
            "* La colonne resting_blood_pressure a comme valeurs possibles : 49\n",
            "\n",
            "\n",
            "* La colonne cholesterol a comme valeurs possibles : 152\n",
            "\n",
            "\n",
            "* La colonne fasting_blood_sugar a comme valeurs possibles : 2\n",
            "\n",
            "\n",
            "* La colonne rest_ecg a comme valeurs possibles : 3\n",
            "\n",
            "\n",
            "* La colonne max_heart_rate_achieved a comme valeurs possibles : 91\n",
            "\n",
            "\n",
            "* La colonne exercise_induced_angina a comme valeurs possibles : 2\n",
            "\n",
            "\n",
            "* La colonne st_depression a comme valeurs possibles : 40\n",
            "\n",
            "\n",
            "* La colonne st_slope a comme valeurs possibles : 3\n",
            "\n",
            "\n",
            "* La colonne nb_vessels a comme valeurs possibles : 5\n",
            "\n",
            "\n",
            "* La colonne thal a comme valeurs possibles : 4\n",
            "\n",
            "\n",
            "* La colonne target a comme valeurs possibles : 2\n",
            "\n",
            "\n"
          ]
        }
      ],
      "source": [
        "data_architecture=sr_value(dt)\n",
        "#Regardons le nombre de valeurs prises de nos features\n",
        "data_architecture.ct_value()"
      ]
    },
    {
      "cell_type": "code",
      "execution_count": null,
      "id": "2d4b72ef",
      "metadata": {
        "id": "2d4b72ef"
      },
      "outputs": [],
      "source": [
        "# converting features to categorical features\n",
        "dt['chest_pain_type'][dt['chest_pain_type'] == 0] = 'asymptomatic'\n",
        "dt['chest_pain_type'][dt['chest_pain_type'] == 1] = 'typical angina'\n",
        "dt['chest_pain_type'][dt['chest_pain_type'] == 2] = 'atypical angina'\n",
        "dt['chest_pain_type'][dt['chest_pain_type'] == 3] = 'non-anginal pain'\n",
        "\n",
        "\n",
        "\n",
        "\n",
        "dt['rest_ecg'][dt['rest_ecg'] == 0] = 'normal'\n",
        "dt['rest_ecg'][dt['rest_ecg'] == 1] = 'ST-T wave abnormality'\n",
        "dt['rest_ecg'][dt['rest_ecg'] == 2] = 'left ventricular hypertrophy'\n",
        "\n",
        "\n",
        "\n",
        "dt['st_slope'][dt['st_slope'] == 0] = 'upsloping'\n",
        "dt['st_slope'][dt['st_slope'] == 1] = 'flat'\n",
        "dt['st_slope'][dt['st_slope'] == 2] = 'downsloping'\n",
        "\n",
        "dt['thal'][dt['thal'] == 0] = 'normal'\n",
        "dt['thal'][dt['thal'] == 1] = 'défaut fixe'\n",
        "dt['thal'][dt['thal'] == 2] = 'défaut réversible'\n",
        "               \n",
        "dt[\"sex\"] = dt.sex.apply(lambda  x:'male' if x==1 else 'female')\n"
      ]
    },
    {
      "cell_type": "code",
      "execution_count": null,
      "id": "8a9cd9d4",
      "metadata": {
        "colab": {
          "base_uri": "https://localhost:8080/"
        },
        "id": "8a9cd9d4",
        "outputId": "2de0b0c6-3843-4344-e66e-8e78731049f6"
      },
      "outputs": [
        {
          "output_type": "execute_result",
          "data": {
            "text/plain": [
              "asymptomatic        497\n",
              "atypical angina     284\n",
              "typical angina      167\n",
              "non-anginal pain     77\n",
              "Name: chest_pain_type, dtype: int64"
            ]
          },
          "metadata": {},
          "execution_count": 8
        }
      ],
      "source": [
        "dt['chest_pain_type'].value_counts()"
      ]
    },
    {
      "cell_type": "code",
      "execution_count": null,
      "id": "ec37aa1a",
      "metadata": {
        "colab": {
          "base_uri": "https://localhost:8080/"
        },
        "id": "ec37aa1a",
        "outputId": "a26e63fc-c6ce-479a-80e5-b1e05e6a8631"
      },
      "outputs": [
        {
          "output_type": "execute_result",
          "data": {
            "text/plain": [
              "ST-T wave abnormality           513\n",
              "normal                          497\n",
              "left ventricular hypertrophy     15\n",
              "Name: rest_ecg, dtype: int64"
            ]
          },
          "metadata": {},
          "execution_count": 9
        }
      ],
      "source": [
        "dt['rest_ecg'].value_counts()"
      ]
    },
    {
      "cell_type": "code",
      "execution_count": null,
      "id": "ee4c5438",
      "metadata": {
        "colab": {
          "base_uri": "https://localhost:8080/"
        },
        "id": "ee4c5438",
        "outputId": "7e7c2def-1f47-4cb9-bf4a-65b7255923bd"
      },
      "outputs": [
        {
          "output_type": "execute_result",
          "data": {
            "text/plain": [
              "flat           482\n",
              "downsloping    469\n",
              "upsloping       74\n",
              "Name: st_slope, dtype: int64"
            ]
          },
          "metadata": {},
          "execution_count": 10
        }
      ],
      "source": [
        "dt['st_slope'].value_counts()"
      ]
    },
    {
      "cell_type": "code",
      "execution_count": null,
      "id": "a1fc5f87",
      "metadata": {
        "colab": {
          "base_uri": "https://localhost:8080/"
        },
        "id": "a1fc5f87",
        "outputId": "e9bce07c-0082-43f3-9389-192a5c85f326"
      },
      "outputs": [
        {
          "output_type": "execute_result",
          "data": {
            "text/plain": [
              "défaut réversible    544\n",
              "3                    410\n",
              "défaut fixe           64\n",
              "normal                 7\n",
              "Name: thal, dtype: int64"
            ]
          },
          "metadata": {},
          "execution_count": 11
        }
      ],
      "source": [
        "dt['thal'].value_counts()"
      ]
    },
    {
      "cell_type": "code",
      "execution_count": null,
      "id": "e1387095",
      "metadata": {
        "colab": {
          "base_uri": "https://localhost:8080/"
        },
        "id": "e1387095",
        "outputId": "bf79ef72-3002-40de-b849-d9e1f9e6c7bc"
      },
      "outputs": [
        {
          "output_type": "execute_result",
          "data": {
            "text/plain": [
              "flat           482\n",
              "downsloping    469\n",
              "upsloping       74\n",
              "Name: st_slope, dtype: int64"
            ]
          },
          "metadata": {},
          "execution_count": 12
        }
      ],
      "source": [
        "#dropping row with st_slope =0\n",
        "dt.drop(dt[dt.st_slope ==0].index, inplace=True)\n",
        "#checking distribution\n",
        "dt['st_slope'].value_counts()"
      ]
    },
    {
      "cell_type": "code",
      "execution_count": null,
      "id": "4406f572",
      "metadata": {
        "colab": {
          "base_uri": "https://localhost:8080/",
          "height": 339
        },
        "id": "4406f572",
        "outputId": "dd7808c2-2bf3-45fa-ddae-510a4c56d1ed"
      },
      "outputs": [
        {
          "output_type": "execute_result",
          "data": {
            "text/plain": [
              "   age     sex chest_pain_type  resting_blood_pressure  cholesterol  \\\n",
              "0   52    male    asymptomatic                     125          212   \n",
              "1   53    male    asymptomatic                     140          203   \n",
              "2   70    male    asymptomatic                     145          174   \n",
              "3   61    male    asymptomatic                     148          203   \n",
              "4   62  female    asymptomatic                     138          294   \n",
              "\n",
              "   fasting_blood_sugar               rest_ecg  max_heart_rate_achieved  \\\n",
              "0                    0  ST-T wave abnormality                      168   \n",
              "1                    1                 normal                      155   \n",
              "2                    0  ST-T wave abnormality                      125   \n",
              "3                    0  ST-T wave abnormality                      161   \n",
              "4                    1  ST-T wave abnormality                      106   \n",
              "\n",
              "   exercise_induced_angina  st_depression     st_slope  nb_vessels  \\\n",
              "0                        0            1.0  downsloping           2   \n",
              "1                        1            3.1    upsloping           0   \n",
              "2                        1            2.6    upsloping           0   \n",
              "3                        0            0.0  downsloping           1   \n",
              "4                        0            1.9         flat           3   \n",
              "\n",
              "                thal  target  \n",
              "0                  3       0  \n",
              "1                  3       0  \n",
              "2                  3       0  \n",
              "3                  3       0  \n",
              "4  défaut réversible       0  "
            ],
            "text/html": [
              "\n",
              "  <div id=\"df-8b54eb59-fde1-46ea-a193-4ce7d9d71806\">\n",
              "    <div class=\"colab-df-container\">\n",
              "      <div>\n",
              "<style scoped>\n",
              "    .dataframe tbody tr th:only-of-type {\n",
              "        vertical-align: middle;\n",
              "    }\n",
              "\n",
              "    .dataframe tbody tr th {\n",
              "        vertical-align: top;\n",
              "    }\n",
              "\n",
              "    .dataframe thead th {\n",
              "        text-align: right;\n",
              "    }\n",
              "</style>\n",
              "<table border=\"1\" class=\"dataframe\">\n",
              "  <thead>\n",
              "    <tr style=\"text-align: right;\">\n",
              "      <th></th>\n",
              "      <th>age</th>\n",
              "      <th>sex</th>\n",
              "      <th>chest_pain_type</th>\n",
              "      <th>resting_blood_pressure</th>\n",
              "      <th>cholesterol</th>\n",
              "      <th>fasting_blood_sugar</th>\n",
              "      <th>rest_ecg</th>\n",
              "      <th>max_heart_rate_achieved</th>\n",
              "      <th>exercise_induced_angina</th>\n",
              "      <th>st_depression</th>\n",
              "      <th>st_slope</th>\n",
              "      <th>nb_vessels</th>\n",
              "      <th>thal</th>\n",
              "      <th>target</th>\n",
              "    </tr>\n",
              "  </thead>\n",
              "  <tbody>\n",
              "    <tr>\n",
              "      <th>0</th>\n",
              "      <td>52</td>\n",
              "      <td>male</td>\n",
              "      <td>asymptomatic</td>\n",
              "      <td>125</td>\n",
              "      <td>212</td>\n",
              "      <td>0</td>\n",
              "      <td>ST-T wave abnormality</td>\n",
              "      <td>168</td>\n",
              "      <td>0</td>\n",
              "      <td>1.0</td>\n",
              "      <td>downsloping</td>\n",
              "      <td>2</td>\n",
              "      <td>3</td>\n",
              "      <td>0</td>\n",
              "    </tr>\n",
              "    <tr>\n",
              "      <th>1</th>\n",
              "      <td>53</td>\n",
              "      <td>male</td>\n",
              "      <td>asymptomatic</td>\n",
              "      <td>140</td>\n",
              "      <td>203</td>\n",
              "      <td>1</td>\n",
              "      <td>normal</td>\n",
              "      <td>155</td>\n",
              "      <td>1</td>\n",
              "      <td>3.1</td>\n",
              "      <td>upsloping</td>\n",
              "      <td>0</td>\n",
              "      <td>3</td>\n",
              "      <td>0</td>\n",
              "    </tr>\n",
              "    <tr>\n",
              "      <th>2</th>\n",
              "      <td>70</td>\n",
              "      <td>male</td>\n",
              "      <td>asymptomatic</td>\n",
              "      <td>145</td>\n",
              "      <td>174</td>\n",
              "      <td>0</td>\n",
              "      <td>ST-T wave abnormality</td>\n",
              "      <td>125</td>\n",
              "      <td>1</td>\n",
              "      <td>2.6</td>\n",
              "      <td>upsloping</td>\n",
              "      <td>0</td>\n",
              "      <td>3</td>\n",
              "      <td>0</td>\n",
              "    </tr>\n",
              "    <tr>\n",
              "      <th>3</th>\n",
              "      <td>61</td>\n",
              "      <td>male</td>\n",
              "      <td>asymptomatic</td>\n",
              "      <td>148</td>\n",
              "      <td>203</td>\n",
              "      <td>0</td>\n",
              "      <td>ST-T wave abnormality</td>\n",
              "      <td>161</td>\n",
              "      <td>0</td>\n",
              "      <td>0.0</td>\n",
              "      <td>downsloping</td>\n",
              "      <td>1</td>\n",
              "      <td>3</td>\n",
              "      <td>0</td>\n",
              "    </tr>\n",
              "    <tr>\n",
              "      <th>4</th>\n",
              "      <td>62</td>\n",
              "      <td>female</td>\n",
              "      <td>asymptomatic</td>\n",
              "      <td>138</td>\n",
              "      <td>294</td>\n",
              "      <td>1</td>\n",
              "      <td>ST-T wave abnormality</td>\n",
              "      <td>106</td>\n",
              "      <td>0</td>\n",
              "      <td>1.9</td>\n",
              "      <td>flat</td>\n",
              "      <td>3</td>\n",
              "      <td>défaut réversible</td>\n",
              "      <td>0</td>\n",
              "    </tr>\n",
              "  </tbody>\n",
              "</table>\n",
              "</div>\n",
              "      <button class=\"colab-df-convert\" onclick=\"convertToInteractive('df-8b54eb59-fde1-46ea-a193-4ce7d9d71806')\"\n",
              "              title=\"Convert this dataframe to an interactive table.\"\n",
              "              style=\"display:none;\">\n",
              "        \n",
              "  <svg xmlns=\"http://www.w3.org/2000/svg\" height=\"24px\"viewBox=\"0 0 24 24\"\n",
              "       width=\"24px\">\n",
              "    <path d=\"M0 0h24v24H0V0z\" fill=\"none\"/>\n",
              "    <path d=\"M18.56 5.44l.94 2.06.94-2.06 2.06-.94-2.06-.94-.94-2.06-.94 2.06-2.06.94zm-11 1L8.5 8.5l.94-2.06 2.06-.94-2.06-.94L8.5 2.5l-.94 2.06-2.06.94zm10 10l.94 2.06.94-2.06 2.06-.94-2.06-.94-.94-2.06-.94 2.06-2.06.94z\"/><path d=\"M17.41 7.96l-1.37-1.37c-.4-.4-.92-.59-1.43-.59-.52 0-1.04.2-1.43.59L10.3 9.45l-7.72 7.72c-.78.78-.78 2.05 0 2.83L4 21.41c.39.39.9.59 1.41.59.51 0 1.02-.2 1.41-.59l7.78-7.78 2.81-2.81c.8-.78.8-2.07 0-2.86zM5.41 20L4 18.59l7.72-7.72 1.47 1.35L5.41 20z\"/>\n",
              "  </svg>\n",
              "      </button>\n",
              "      \n",
              "  <style>\n",
              "    .colab-df-container {\n",
              "      display:flex;\n",
              "      flex-wrap:wrap;\n",
              "      gap: 12px;\n",
              "    }\n",
              "\n",
              "    .colab-df-convert {\n",
              "      background-color: #E8F0FE;\n",
              "      border: none;\n",
              "      border-radius: 50%;\n",
              "      cursor: pointer;\n",
              "      display: none;\n",
              "      fill: #1967D2;\n",
              "      height: 32px;\n",
              "      padding: 0 0 0 0;\n",
              "      width: 32px;\n",
              "    }\n",
              "\n",
              "    .colab-df-convert:hover {\n",
              "      background-color: #E2EBFA;\n",
              "      box-shadow: 0px 1px 2px rgba(60, 64, 67, 0.3), 0px 1px 3px 1px rgba(60, 64, 67, 0.15);\n",
              "      fill: #174EA6;\n",
              "    }\n",
              "\n",
              "    [theme=dark] .colab-df-convert {\n",
              "      background-color: #3B4455;\n",
              "      fill: #D2E3FC;\n",
              "    }\n",
              "\n",
              "    [theme=dark] .colab-df-convert:hover {\n",
              "      background-color: #434B5C;\n",
              "      box-shadow: 0px 1px 3px 1px rgba(0, 0, 0, 0.15);\n",
              "      filter: drop-shadow(0px 1px 2px rgba(0, 0, 0, 0.3));\n",
              "      fill: #FFFFFF;\n",
              "    }\n",
              "  </style>\n",
              "\n",
              "      <script>\n",
              "        const buttonEl =\n",
              "          document.querySelector('#df-8b54eb59-fde1-46ea-a193-4ce7d9d71806 button.colab-df-convert');\n",
              "        buttonEl.style.display =\n",
              "          google.colab.kernel.accessAllowed ? 'block' : 'none';\n",
              "\n",
              "        async function convertToInteractive(key) {\n",
              "          const element = document.querySelector('#df-8b54eb59-fde1-46ea-a193-4ce7d9d71806');\n",
              "          const dataTable =\n",
              "            await google.colab.kernel.invokeFunction('convertToInteractive',\n",
              "                                                     [key], {});\n",
              "          if (!dataTable) return;\n",
              "\n",
              "          const docLinkHtml = 'Like what you see? Visit the ' +\n",
              "            '<a target=\"_blank\" href=https://colab.research.google.com/notebooks/data_table.ipynb>data table notebook</a>'\n",
              "            + ' to learn more about interactive tables.';\n",
              "          element.innerHTML = '';\n",
              "          dataTable['output_type'] = 'display_data';\n",
              "          await google.colab.output.renderOutput(dataTable, element);\n",
              "          const docLink = document.createElement('div');\n",
              "          docLink.innerHTML = docLinkHtml;\n",
              "          element.appendChild(docLink);\n",
              "        }\n",
              "      </script>\n",
              "    </div>\n",
              "  </div>\n",
              "  "
            ]
          },
          "metadata": {},
          "execution_count": 13
        }
      ],
      "source": [
        "# checking the top 5 entries of dataset after feature encoding\n",
        "dt.head()"
      ]
    },
    {
      "cell_type": "code",
      "execution_count": null,
      "id": "5e3cc498",
      "metadata": {
        "colab": {
          "base_uri": "https://localhost:8080/"
        },
        "id": "5e3cc498",
        "outputId": "6f21f53d-ae57-4581-d102-b886f78093da"
      },
      "outputs": [
        {
          "output_type": "execute_result",
          "data": {
            "text/plain": [
              "age                        0\n",
              "sex                        0\n",
              "chest_pain_type            0\n",
              "resting_blood_pressure     0\n",
              "cholesterol                0\n",
              "fasting_blood_sugar        0\n",
              "rest_ecg                   0\n",
              "max_heart_rate_achieved    0\n",
              "exercise_induced_angina    0\n",
              "st_depression              0\n",
              "st_slope                   0\n",
              "nb_vessels                 0\n",
              "thal                       0\n",
              "target                     0\n",
              "dtype: int64"
            ]
          },
          "metadata": {},
          "execution_count": 14
        }
      ],
      "source": [
        "## Checking missing entries in the dataset columnwise\n",
        "dt.isna().sum()"
      ]
    },
    {
      "cell_type": "code",
      "execution_count": null,
      "id": "bb6bf66d",
      "metadata": {
        "colab": {
          "base_uri": "https://localhost:8080/"
        },
        "id": "bb6bf66d",
        "outputId": "1eb46d92-ad14-46a1-dc19-b149a3c0f292"
      },
      "outputs": [
        {
          "output_type": "execute_result",
          "data": {
            "text/plain": [
              "(1025, 14)"
            ]
          },
          "metadata": {},
          "execution_count": 15
        }
      ],
      "source": [
        "# first checking the shape of the dataset\n",
        "dt.shape"
      ]
    },
    {
      "cell_type": "code",
      "execution_count": null,
      "id": "c5fcc199",
      "metadata": {
        "colab": {
          "base_uri": "https://localhost:8080/",
          "height": 300
        },
        "id": "c5fcc199",
        "outputId": "52bd4aae-ae03-4889-d9d9-370b5aef9a44"
      },
      "outputs": [
        {
          "output_type": "execute_result",
          "data": {
            "text/plain": [
              "               age  resting_blood_pressure  cholesterol  fasting_blood_sugar  \\\n",
              "count  1025.000000             1025.000000   1025.00000          1025.000000   \n",
              "mean     54.434146              131.611707    246.00000             0.149268   \n",
              "std       9.072290               17.516718     51.59251             0.356527   \n",
              "min      29.000000               94.000000    126.00000             0.000000   \n",
              "25%      48.000000              120.000000    211.00000             0.000000   \n",
              "50%      56.000000              130.000000    240.00000             0.000000   \n",
              "75%      61.000000              140.000000    275.00000             0.000000   \n",
              "max      77.000000              200.000000    564.00000             1.000000   \n",
              "\n",
              "       max_heart_rate_achieved  exercise_induced_angina  st_depression  \\\n",
              "count              1025.000000              1025.000000    1025.000000   \n",
              "mean                149.114146                 0.336585       1.071512   \n",
              "std                  23.005724                 0.472772       1.175053   \n",
              "min                  71.000000                 0.000000       0.000000   \n",
              "25%                 132.000000                 0.000000       0.000000   \n",
              "50%                 152.000000                 0.000000       0.800000   \n",
              "75%                 166.000000                 1.000000       1.800000   \n",
              "max                 202.000000                 1.000000       6.200000   \n",
              "\n",
              "        nb_vessels       target  \n",
              "count  1025.000000  1025.000000  \n",
              "mean      0.754146     0.513171  \n",
              "std       1.030798     0.500070  \n",
              "min       0.000000     0.000000  \n",
              "25%       0.000000     0.000000  \n",
              "50%       0.000000     1.000000  \n",
              "75%       1.000000     1.000000  \n",
              "max       4.000000     1.000000  "
            ],
            "text/html": [
              "\n",
              "  <div id=\"df-9f001e90-4d5b-4bf1-9895-100c9365089f\">\n",
              "    <div class=\"colab-df-container\">\n",
              "      <div>\n",
              "<style scoped>\n",
              "    .dataframe tbody tr th:only-of-type {\n",
              "        vertical-align: middle;\n",
              "    }\n",
              "\n",
              "    .dataframe tbody tr th {\n",
              "        vertical-align: top;\n",
              "    }\n",
              "\n",
              "    .dataframe thead th {\n",
              "        text-align: right;\n",
              "    }\n",
              "</style>\n",
              "<table border=\"1\" class=\"dataframe\">\n",
              "  <thead>\n",
              "    <tr style=\"text-align: right;\">\n",
              "      <th></th>\n",
              "      <th>age</th>\n",
              "      <th>resting_blood_pressure</th>\n",
              "      <th>cholesterol</th>\n",
              "      <th>fasting_blood_sugar</th>\n",
              "      <th>max_heart_rate_achieved</th>\n",
              "      <th>exercise_induced_angina</th>\n",
              "      <th>st_depression</th>\n",
              "      <th>nb_vessels</th>\n",
              "      <th>target</th>\n",
              "    </tr>\n",
              "  </thead>\n",
              "  <tbody>\n",
              "    <tr>\n",
              "      <th>count</th>\n",
              "      <td>1025.000000</td>\n",
              "      <td>1025.000000</td>\n",
              "      <td>1025.00000</td>\n",
              "      <td>1025.000000</td>\n",
              "      <td>1025.000000</td>\n",
              "      <td>1025.000000</td>\n",
              "      <td>1025.000000</td>\n",
              "      <td>1025.000000</td>\n",
              "      <td>1025.000000</td>\n",
              "    </tr>\n",
              "    <tr>\n",
              "      <th>mean</th>\n",
              "      <td>54.434146</td>\n",
              "      <td>131.611707</td>\n",
              "      <td>246.00000</td>\n",
              "      <td>0.149268</td>\n",
              "      <td>149.114146</td>\n",
              "      <td>0.336585</td>\n",
              "      <td>1.071512</td>\n",
              "      <td>0.754146</td>\n",
              "      <td>0.513171</td>\n",
              "    </tr>\n",
              "    <tr>\n",
              "      <th>std</th>\n",
              "      <td>9.072290</td>\n",
              "      <td>17.516718</td>\n",
              "      <td>51.59251</td>\n",
              "      <td>0.356527</td>\n",
              "      <td>23.005724</td>\n",
              "      <td>0.472772</td>\n",
              "      <td>1.175053</td>\n",
              "      <td>1.030798</td>\n",
              "      <td>0.500070</td>\n",
              "    </tr>\n",
              "    <tr>\n",
              "      <th>min</th>\n",
              "      <td>29.000000</td>\n",
              "      <td>94.000000</td>\n",
              "      <td>126.00000</td>\n",
              "      <td>0.000000</td>\n",
              "      <td>71.000000</td>\n",
              "      <td>0.000000</td>\n",
              "      <td>0.000000</td>\n",
              "      <td>0.000000</td>\n",
              "      <td>0.000000</td>\n",
              "    </tr>\n",
              "    <tr>\n",
              "      <th>25%</th>\n",
              "      <td>48.000000</td>\n",
              "      <td>120.000000</td>\n",
              "      <td>211.00000</td>\n",
              "      <td>0.000000</td>\n",
              "      <td>132.000000</td>\n",
              "      <td>0.000000</td>\n",
              "      <td>0.000000</td>\n",
              "      <td>0.000000</td>\n",
              "      <td>0.000000</td>\n",
              "    </tr>\n",
              "    <tr>\n",
              "      <th>50%</th>\n",
              "      <td>56.000000</td>\n",
              "      <td>130.000000</td>\n",
              "      <td>240.00000</td>\n",
              "      <td>0.000000</td>\n",
              "      <td>152.000000</td>\n",
              "      <td>0.000000</td>\n",
              "      <td>0.800000</td>\n",
              "      <td>0.000000</td>\n",
              "      <td>1.000000</td>\n",
              "    </tr>\n",
              "    <tr>\n",
              "      <th>75%</th>\n",
              "      <td>61.000000</td>\n",
              "      <td>140.000000</td>\n",
              "      <td>275.00000</td>\n",
              "      <td>0.000000</td>\n",
              "      <td>166.000000</td>\n",
              "      <td>1.000000</td>\n",
              "      <td>1.800000</td>\n",
              "      <td>1.000000</td>\n",
              "      <td>1.000000</td>\n",
              "    </tr>\n",
              "    <tr>\n",
              "      <th>max</th>\n",
              "      <td>77.000000</td>\n",
              "      <td>200.000000</td>\n",
              "      <td>564.00000</td>\n",
              "      <td>1.000000</td>\n",
              "      <td>202.000000</td>\n",
              "      <td>1.000000</td>\n",
              "      <td>6.200000</td>\n",
              "      <td>4.000000</td>\n",
              "      <td>1.000000</td>\n",
              "    </tr>\n",
              "  </tbody>\n",
              "</table>\n",
              "</div>\n",
              "      <button class=\"colab-df-convert\" onclick=\"convertToInteractive('df-9f001e90-4d5b-4bf1-9895-100c9365089f')\"\n",
              "              title=\"Convert this dataframe to an interactive table.\"\n",
              "              style=\"display:none;\">\n",
              "        \n",
              "  <svg xmlns=\"http://www.w3.org/2000/svg\" height=\"24px\"viewBox=\"0 0 24 24\"\n",
              "       width=\"24px\">\n",
              "    <path d=\"M0 0h24v24H0V0z\" fill=\"none\"/>\n",
              "    <path d=\"M18.56 5.44l.94 2.06.94-2.06 2.06-.94-2.06-.94-.94-2.06-.94 2.06-2.06.94zm-11 1L8.5 8.5l.94-2.06 2.06-.94-2.06-.94L8.5 2.5l-.94 2.06-2.06.94zm10 10l.94 2.06.94-2.06 2.06-.94-2.06-.94-.94-2.06-.94 2.06-2.06.94z\"/><path d=\"M17.41 7.96l-1.37-1.37c-.4-.4-.92-.59-1.43-.59-.52 0-1.04.2-1.43.59L10.3 9.45l-7.72 7.72c-.78.78-.78 2.05 0 2.83L4 21.41c.39.39.9.59 1.41.59.51 0 1.02-.2 1.41-.59l7.78-7.78 2.81-2.81c.8-.78.8-2.07 0-2.86zM5.41 20L4 18.59l7.72-7.72 1.47 1.35L5.41 20z\"/>\n",
              "  </svg>\n",
              "      </button>\n",
              "      \n",
              "  <style>\n",
              "    .colab-df-container {\n",
              "      display:flex;\n",
              "      flex-wrap:wrap;\n",
              "      gap: 12px;\n",
              "    }\n",
              "\n",
              "    .colab-df-convert {\n",
              "      background-color: #E8F0FE;\n",
              "      border: none;\n",
              "      border-radius: 50%;\n",
              "      cursor: pointer;\n",
              "      display: none;\n",
              "      fill: #1967D2;\n",
              "      height: 32px;\n",
              "      padding: 0 0 0 0;\n",
              "      width: 32px;\n",
              "    }\n",
              "\n",
              "    .colab-df-convert:hover {\n",
              "      background-color: #E2EBFA;\n",
              "      box-shadow: 0px 1px 2px rgba(60, 64, 67, 0.3), 0px 1px 3px 1px rgba(60, 64, 67, 0.15);\n",
              "      fill: #174EA6;\n",
              "    }\n",
              "\n",
              "    [theme=dark] .colab-df-convert {\n",
              "      background-color: #3B4455;\n",
              "      fill: #D2E3FC;\n",
              "    }\n",
              "\n",
              "    [theme=dark] .colab-df-convert:hover {\n",
              "      background-color: #434B5C;\n",
              "      box-shadow: 0px 1px 3px 1px rgba(0, 0, 0, 0.15);\n",
              "      filter: drop-shadow(0px 1px 2px rgba(0, 0, 0, 0.3));\n",
              "      fill: #FFFFFF;\n",
              "    }\n",
              "  </style>\n",
              "\n",
              "      <script>\n",
              "        const buttonEl =\n",
              "          document.querySelector('#df-9f001e90-4d5b-4bf1-9895-100c9365089f button.colab-df-convert');\n",
              "        buttonEl.style.display =\n",
              "          google.colab.kernel.accessAllowed ? 'block' : 'none';\n",
              "\n",
              "        async function convertToInteractive(key) {\n",
              "          const element = document.querySelector('#df-9f001e90-4d5b-4bf1-9895-100c9365089f');\n",
              "          const dataTable =\n",
              "            await google.colab.kernel.invokeFunction('convertToInteractive',\n",
              "                                                     [key], {});\n",
              "          if (!dataTable) return;\n",
              "\n",
              "          const docLinkHtml = 'Like what you see? Visit the ' +\n",
              "            '<a target=\"_blank\" href=https://colab.research.google.com/notebooks/data_table.ipynb>data table notebook</a>'\n",
              "            + ' to learn more about interactive tables.';\n",
              "          element.innerHTML = '';\n",
              "          dataTable['output_type'] = 'display_data';\n",
              "          await google.colab.output.renderOutput(dataTable, element);\n",
              "          const docLink = document.createElement('div');\n",
              "          docLink.innerHTML = docLinkHtml;\n",
              "          element.appendChild(docLink);\n",
              "        }\n",
              "      </script>\n",
              "    </div>\n",
              "  </div>\n",
              "  "
            ]
          },
          "metadata": {},
          "execution_count": 16
        }
      ],
      "source": [
        "# summary statistics of numerical columns\n",
        "dt.describe(include =[np.number])"
      ]
    },
    {
      "cell_type": "code",
      "execution_count": null,
      "id": "69c1ead6",
      "metadata": {
        "colab": {
          "base_uri": "https://localhost:8080/",
          "height": 175
        },
        "id": "69c1ead6",
        "outputId": "a13fd4ae-70d9-4066-ad72-ffd56bdafbe4"
      },
      "outputs": [
        {
          "output_type": "execute_result",
          "data": {
            "text/plain": [
              "         sex chest_pain_type               rest_ecg st_slope  \\\n",
              "count   1025            1025                   1025     1025   \n",
              "unique     2               4                      3        3   \n",
              "top     male    asymptomatic  ST-T wave abnormality     flat   \n",
              "freq     713             497                    513      482   \n",
              "\n",
              "                     thal  \n",
              "count                1025  \n",
              "unique                  4  \n",
              "top     défaut réversible  \n",
              "freq                  544  "
            ],
            "text/html": [
              "\n",
              "  <div id=\"df-f5ccc666-7d48-4e52-acdd-1dc633419167\">\n",
              "    <div class=\"colab-df-container\">\n",
              "      <div>\n",
              "<style scoped>\n",
              "    .dataframe tbody tr th:only-of-type {\n",
              "        vertical-align: middle;\n",
              "    }\n",
              "\n",
              "    .dataframe tbody tr th {\n",
              "        vertical-align: top;\n",
              "    }\n",
              "\n",
              "    .dataframe thead th {\n",
              "        text-align: right;\n",
              "    }\n",
              "</style>\n",
              "<table border=\"1\" class=\"dataframe\">\n",
              "  <thead>\n",
              "    <tr style=\"text-align: right;\">\n",
              "      <th></th>\n",
              "      <th>sex</th>\n",
              "      <th>chest_pain_type</th>\n",
              "      <th>rest_ecg</th>\n",
              "      <th>st_slope</th>\n",
              "      <th>thal</th>\n",
              "    </tr>\n",
              "  </thead>\n",
              "  <tbody>\n",
              "    <tr>\n",
              "      <th>count</th>\n",
              "      <td>1025</td>\n",
              "      <td>1025</td>\n",
              "      <td>1025</td>\n",
              "      <td>1025</td>\n",
              "      <td>1025</td>\n",
              "    </tr>\n",
              "    <tr>\n",
              "      <th>unique</th>\n",
              "      <td>2</td>\n",
              "      <td>4</td>\n",
              "      <td>3</td>\n",
              "      <td>3</td>\n",
              "      <td>4</td>\n",
              "    </tr>\n",
              "    <tr>\n",
              "      <th>top</th>\n",
              "      <td>male</td>\n",
              "      <td>asymptomatic</td>\n",
              "      <td>ST-T wave abnormality</td>\n",
              "      <td>flat</td>\n",
              "      <td>défaut réversible</td>\n",
              "    </tr>\n",
              "    <tr>\n",
              "      <th>freq</th>\n",
              "      <td>713</td>\n",
              "      <td>497</td>\n",
              "      <td>513</td>\n",
              "      <td>482</td>\n",
              "      <td>544</td>\n",
              "    </tr>\n",
              "  </tbody>\n",
              "</table>\n",
              "</div>\n",
              "      <button class=\"colab-df-convert\" onclick=\"convertToInteractive('df-f5ccc666-7d48-4e52-acdd-1dc633419167')\"\n",
              "              title=\"Convert this dataframe to an interactive table.\"\n",
              "              style=\"display:none;\">\n",
              "        \n",
              "  <svg xmlns=\"http://www.w3.org/2000/svg\" height=\"24px\"viewBox=\"0 0 24 24\"\n",
              "       width=\"24px\">\n",
              "    <path d=\"M0 0h24v24H0V0z\" fill=\"none\"/>\n",
              "    <path d=\"M18.56 5.44l.94 2.06.94-2.06 2.06-.94-2.06-.94-.94-2.06-.94 2.06-2.06.94zm-11 1L8.5 8.5l.94-2.06 2.06-.94-2.06-.94L8.5 2.5l-.94 2.06-2.06.94zm10 10l.94 2.06.94-2.06 2.06-.94-2.06-.94-.94-2.06-.94 2.06-2.06.94z\"/><path d=\"M17.41 7.96l-1.37-1.37c-.4-.4-.92-.59-1.43-.59-.52 0-1.04.2-1.43.59L10.3 9.45l-7.72 7.72c-.78.78-.78 2.05 0 2.83L4 21.41c.39.39.9.59 1.41.59.51 0 1.02-.2 1.41-.59l7.78-7.78 2.81-2.81c.8-.78.8-2.07 0-2.86zM5.41 20L4 18.59l7.72-7.72 1.47 1.35L5.41 20z\"/>\n",
              "  </svg>\n",
              "      </button>\n",
              "      \n",
              "  <style>\n",
              "    .colab-df-container {\n",
              "      display:flex;\n",
              "      flex-wrap:wrap;\n",
              "      gap: 12px;\n",
              "    }\n",
              "\n",
              "    .colab-df-convert {\n",
              "      background-color: #E8F0FE;\n",
              "      border: none;\n",
              "      border-radius: 50%;\n",
              "      cursor: pointer;\n",
              "      display: none;\n",
              "      fill: #1967D2;\n",
              "      height: 32px;\n",
              "      padding: 0 0 0 0;\n",
              "      width: 32px;\n",
              "    }\n",
              "\n",
              "    .colab-df-convert:hover {\n",
              "      background-color: #E2EBFA;\n",
              "      box-shadow: 0px 1px 2px rgba(60, 64, 67, 0.3), 0px 1px 3px 1px rgba(60, 64, 67, 0.15);\n",
              "      fill: #174EA6;\n",
              "    }\n",
              "\n",
              "    [theme=dark] .colab-df-convert {\n",
              "      background-color: #3B4455;\n",
              "      fill: #D2E3FC;\n",
              "    }\n",
              "\n",
              "    [theme=dark] .colab-df-convert:hover {\n",
              "      background-color: #434B5C;\n",
              "      box-shadow: 0px 1px 3px 1px rgba(0, 0, 0, 0.15);\n",
              "      filter: drop-shadow(0px 1px 2px rgba(0, 0, 0, 0.3));\n",
              "      fill: #FFFFFF;\n",
              "    }\n",
              "  </style>\n",
              "\n",
              "      <script>\n",
              "        const buttonEl =\n",
              "          document.querySelector('#df-f5ccc666-7d48-4e52-acdd-1dc633419167 button.colab-df-convert');\n",
              "        buttonEl.style.display =\n",
              "          google.colab.kernel.accessAllowed ? 'block' : 'none';\n",
              "\n",
              "        async function convertToInteractive(key) {\n",
              "          const element = document.querySelector('#df-f5ccc666-7d48-4e52-acdd-1dc633419167');\n",
              "          const dataTable =\n",
              "            await google.colab.kernel.invokeFunction('convertToInteractive',\n",
              "                                                     [key], {});\n",
              "          if (!dataTable) return;\n",
              "\n",
              "          const docLinkHtml = 'Like what you see? Visit the ' +\n",
              "            '<a target=\"_blank\" href=https://colab.research.google.com/notebooks/data_table.ipynb>data table notebook</a>'\n",
              "            + ' to learn more about interactive tables.';\n",
              "          element.innerHTML = '';\n",
              "          dataTable['output_type'] = 'display_data';\n",
              "          await google.colab.output.renderOutput(dataTable, element);\n",
              "          const docLink = document.createElement('div');\n",
              "          docLink.innerHTML = docLinkHtml;\n",
              "          element.appendChild(docLink);\n",
              "        }\n",
              "      </script>\n",
              "    </div>\n",
              "  </div>\n",
              "  "
            ]
          },
          "metadata": {},
          "execution_count": 17
        }
      ],
      "source": [
        "# summary statistics of categorical columns\n",
        "dt.describe(include =[np.object])"
      ]
    },
    {
      "cell_type": "code",
      "execution_count": null,
      "id": "c49821b5",
      "metadata": {
        "colab": {
          "base_uri": "https://localhost:8080/",
          "height": 390
        },
        "id": "c49821b5",
        "outputId": "98d500e7-33e4-4463-9f20-b941b5acaaab"
      },
      "outputs": [
        {
          "output_type": "display_data",
          "data": {
            "text/plain": [
              "<Figure size 1008x432 with 2 Axes>"
            ],
            "image/png": "[encoded data removed]"
          },
          "metadata": {
            "needs_background": "light"
          }
        }
      ],
      "source": [
        "# Plotting attrition of employees\n",
        "fig, (ax1, ax2) = plt.subplots(nrows=1, ncols=2, sharey=False, figsize=(14,6))\n",
        "\n",
        "ax1 = dt['target'].value_counts().plot.pie( x=\"Heart disease\" ,y ='no.of patients', \n",
        "                   autopct = \"%1.0f%%\",labels=[\"Heart Disease\",\"Normal\"], startangle = 60,ax=ax1);\n",
        "ax1.set(title = 'Percentage of Heart disease patients in Dataset')\n",
        "\n",
        "ax2 = dt[\"target\"].value_counts().plot(kind=\"barh\" ,ax =ax2)\n",
        "for i,j in enumerate(dt[\"target\"].value_counts().values):\n",
        "    ax2.text(.5,i,j,fontsize=12)\n",
        "ax2.set(title = 'No. of Heart disease patients in Dataset')\n",
        "plt.show()"
      ]
    },
    {
      "cell_type": "code",
      "execution_count": null,
      "id": "85924668",
      "metadata": {
        "colab": {
          "base_uri": "https://localhost:8080/",
          "height": 374
        },
        "id": "85924668",
        "outputId": "1de3078e-490f-44cf-a270-b8f731537ff1"
      },
      "outputs": [
        {
          "output_type": "display_data",
          "data": {
            "text/plain": [
              "<Figure size 1296x864 with 2 Axes>"
            ],
            "image/png": "[encoded data removed]"
          },
          "metadata": {
            "needs_background": "light"
          }
        }
      ],
      "source": [
        "plt.figure(figsize=(18,12))\n",
        "plt.subplot(221)\n",
        "dt[\"sex\"].value_counts().plot.pie(autopct = \"%1.0f%%\",colors = sns.color_palette(\"prism\",5), startangle = 60, labels=[\"Male\",\"Female\"],\n",
        "wedgeprops={\"linewidth\":2,\"edgecolor\":\"k\"},explode=[.1,.1],shadow =True)\n",
        "plt.title(\"Distribution of Gender\")\n",
        "plt.subplot(222)\n",
        "ax= sns.distplot(dt['age'], rug=True)\n",
        "plt.title(\"Age wise distribution\")\n",
        "plt.show()"
      ]
    },
    {
      "cell_type": "code",
      "execution_count": null,
      "id": "d12f9bf8",
      "metadata": {
        "colab": {
          "base_uri": "https://localhost:8080/",
          "height": 687
        },
        "id": "d12f9bf8",
        "outputId": "65981dc1-fb70-4676-a320-42f35964f041"
      },
      "outputs": [
        {
          "output_type": "display_data",
          "data": {
            "text/plain": [
              "<Figure size 1080x360 with 2 Axes>"
            ],
            "image/png": "[encoded data removed]"
          },
          "metadata": {
            "needs_background": "light"
          }
        },
        {
          "output_type": "display_data",
          "data": {
            "text/plain": [
              "<Figure size 1080x360 with 2 Axes>"
            ],
            "image/png": "[encoded data removed]"
          },
          "metadata": {
            "needs_background": "light"
          }
        }
      ],
      "source": [
        "# creating separate df for normal and heart patients\n",
        "\n",
        "attr_1=dt[dt['target']==1]\n",
        "\n",
        "attr_0=dt[dt['target']==0]\n",
        "\n",
        "# plotting normal patients\n",
        "fig = plt.figure(figsize=(15,5))\n",
        "ax1 = plt.subplot2grid((1,2),(0,0))\n",
        "sns.distplot(attr_0['age'])\n",
        "plt.title('AGE DISTRIBUTION OF NORMAL PATIENTS', fontsize=15, weight='bold')\n",
        "\n",
        "ax1 = plt.subplot2grid((1,2),(0,1))\n",
        "sns.countplot(attr_0['sex'], palette='viridis')\n",
        "plt.title('GENDER DISTRIBUTION OF NORMAL PATIENTS', fontsize=15, weight='bold' )\n",
        "plt.show()\n",
        "\n",
        "#plotting heart patients\n",
        "\n",
        "fig = plt.figure(figsize=(15,5))\n",
        "ax1 = plt.subplot2grid((1,2),(0,0))\n",
        "sns.distplot(attr_1['age'])\n",
        "plt.title('AGE DISTRIBUTION OF HEART DISEASE PATIENTS', fontsize=15, weight='bold')\n",
        "\n",
        "ax1 = plt.subplot2grid((1,2),(0,1))\n",
        "sns.countplot(attr_1['sex'], palette='viridis')\n",
        "plt.title('GENDER DISTRIBUTION OF HEART DISEASE PATIENTS', fontsize=15, weight='bold' )\n",
        "plt.show()"
      ]
    },
    {
      "cell_type": "code",
      "execution_count": null,
      "id": "2c876f39",
      "metadata": {
        "colab": {
          "base_uri": "https://localhost:8080/",
          "height": 353
        },
        "id": "2c876f39",
        "outputId": "bea43f3c-162c-4f93-fc27-66795cbf014d"
      },
      "outputs": [
        {
          "output_type": "display_data",
          "data": {
            "text/plain": [
              "<Figure size 1080x360 with 2 Axes>"
            ],
            "image/png": "[encoded data removed]"
          },
          "metadata": {
            "needs_background": "light"
          }
        }
      ],
      "source": [
        "# plotting normal patients\n",
        "fig = plt.figure(figsize=(15,5))\n",
        "ax1 = plt.subplot2grid((1,2),(0,0))\n",
        "sns.countplot(attr_0['chest_pain_type'])\n",
        "plt.title('CHEST PAIN OF NORMAL PATIENTS', fontsize=15, weight='bold')\n",
        "\n",
        "#plotting heart patients\n",
        "ax1 = plt.subplot2grid((1,2),(0,1))\n",
        "sns.countplot(attr_1['chest_pain_type'], palette='viridis')\n",
        "plt.title('CHEST PAIN OF HEART PATIENTS', fontsize=15, weight='bold' )\n",
        "plt.show()"
      ]
    },
    {
      "cell_type": "code",
      "execution_count": null,
      "id": "e220880d",
      "metadata": {
        "colab": {
          "base_uri": "https://localhost:8080/",
          "height": 206
        },
        "id": "e220880d",
        "outputId": "74e8d13a-4f2b-4701-8c42-76e369a984d1"
      },
      "outputs": [
        {
          "output_type": "execute_result",
          "data": {
            "text/plain": [
              "<pandas.io.formats.style.Styler at 0x7fb554288550>"
            ],
            "text/html": [
              "<style type=\"text/css\">\n",
              "#T_c740a_row0_col0, #T_c740a_row1_col1 {\n",
              "  background-color: #ff0000;\n",
              "  color: #f1f1f1;\n",
              "}\n",
              "#T_c740a_row0_col1 {\n",
              "  background-color: #f88a8a;\n",
              "  color: #f1f1f1;\n",
              "}\n",
              "#T_c740a_row1_col0 {\n",
              "  background-color: #f4d6d6;\n",
              "  color: #000000;\n",
              "}\n",
              "#T_c740a_row2_col0, #T_c740a_row2_col1 {\n",
              "  background-color: #f3f0f0;\n",
              "  color: #000000;\n",
              "}\n",
              "#T_c740a_row3_col0 {\n",
              "  background-color: #f3ebeb;\n",
              "  color: #000000;\n",
              "}\n",
              "#T_c740a_row3_col1 {\n",
              "  background-color: #f97979;\n",
              "  color: #f1f1f1;\n",
              "}\n",
              "</style>\n",
              "<table id=\"T_c740a\" class=\"dataframe\">\n",
              "  <thead>\n",
              "    <tr>\n",
              "      <th class=\"index_name level0\" >target</th>\n",
              "      <th id=\"T_c740a_level0_col0\" class=\"col_heading level0 col0\" >0</th>\n",
              "      <th id=\"T_c740a_level0_col1\" class=\"col_heading level0 col1\" >1</th>\n",
              "    </tr>\n",
              "    <tr>\n",
              "      <th class=\"index_name level0\" >chest_pain_type</th>\n",
              "      <th class=\"blank col0\" >&nbsp;</th>\n",
              "      <th class=\"blank col1\" >&nbsp;</th>\n",
              "    </tr>\n",
              "  </thead>\n",
              "  <tbody>\n",
              "    <tr>\n",
              "      <th id=\"T_c740a_level0_row0\" class=\"row_heading level0 row0\" >asymptomatic</th>\n",
              "      <td id=\"T_c740a_row0_col0\" class=\"data row0 col0\" >75.150000</td>\n",
              "      <td id=\"T_c740a_row0_col1\" class=\"data row0 col1\" >23.190000</td>\n",
              "    </tr>\n",
              "    <tr>\n",
              "      <th id=\"T_c740a_level0_row1\" class=\"row_heading level0 row1\" >atypical angina</th>\n",
              "      <td id=\"T_c740a_row1_col0\" class=\"data row1 col0\" >13.030000</td>\n",
              "      <td id=\"T_c740a_row1_col1\" class=\"data row1 col1\" >41.630000</td>\n",
              "    </tr>\n",
              "    <tr>\n",
              "      <th id=\"T_c740a_level0_row2\" class=\"row_heading level0 row2\" >non-anginal pain</th>\n",
              "      <td id=\"T_c740a_row2_col0\" class=\"data row2 col0\" >5.210000</td>\n",
              "      <td id=\"T_c740a_row2_col1\" class=\"data row2 col1\" >9.700000</td>\n",
              "    </tr>\n",
              "    <tr>\n",
              "      <th id=\"T_c740a_level0_row3\" class=\"row_heading level0 row3\" >typical angina</th>\n",
              "      <td id=\"T_c740a_row3_col0\" class=\"data row3 col0\" >6.610000</td>\n",
              "      <td id=\"T_c740a_row3_col1\" class=\"data row3 col1\" >25.480000</td>\n",
              "    </tr>\n",
              "  </tbody>\n",
              "</table>\n"
            ]
          },
          "metadata": {},
          "execution_count": 22
        }
      ],
      "source": [
        "#Exploring the Heart Disease patients based on Chest Pain Type\n",
        "plot_criteria= ['chest_pain_type', 'target']\n",
        "cm = sns.light_palette(\"red\", as_cmap=True)\n",
        "(round(pd.crosstab(dt[plot_criteria[0]], dt[plot_criteria[1]], normalize='columns') * 100,2)).style.background_gradient(cmap = cm)"
      ]
    },
    {
      "cell_type": "code",
      "execution_count": null,
      "id": "80eb284b",
      "metadata": {
        "colab": {
          "base_uri": "https://localhost:8080/",
          "height": 352
        },
        "id": "80eb284b",
        "outputId": "724fe26f-0d57-4fa1-9b59-ecf43aeaf040"
      },
      "outputs": [
        {
          "output_type": "display_data",
          "data": {
            "text/plain": [
              "<Figure size 1080x360 with 2 Axes>"
            ],
            "image/png": "[encoded data removed]"
          },
          "metadata": {
            "needs_background": "light"
          }
        }
      ],
      "source": [
        "# plotting normal patients\n",
        "fig = plt.figure(figsize=(15,5))\n",
        "ax1 = plt.subplot2grid((1,2),(0,0))\n",
        "sns.countplot(attr_0['rest_ecg'])\n",
        "plt.title('REST ECG OF NORMAL PATIENTS', fontsize=15, weight='bold')\n",
        "\n",
        "#plotting heart patients\n",
        "ax1 = plt.subplot2grid((1,2),(0,1))\n",
        "sns.countplot(attr_1['rest_ecg'], palette='viridis')\n",
        "plt.title('REST ECG OF HEART PATIENTS', fontsize=15, weight='bold' )\n",
        "plt.show()"
      ]
    },
    {
      "cell_type": "code",
      "execution_count": null,
      "id": "0e488c63",
      "metadata": {
        "colab": {
          "base_uri": "https://localhost:8080/",
          "height": 175
        },
        "id": "0e488c63",
        "outputId": "df7f0695-14d3-4017-df88-0c81e4914796"
      },
      "outputs": [
        {
          "output_type": "execute_result",
          "data": {
            "text/plain": [
              "<pandas.io.formats.style.Styler at 0x7fb55424f580>"
            ],
            "text/html": [
              "<style type=\"text/css\">\n",
              "#T_ca745_row0_col0 {\n",
              "  background-color: #fb4646;\n",
              "  color: #f1f1f1;\n",
              "}\n",
              "#T_ca745_row0_col1, #T_ca745_row2_col0 {\n",
              "  background-color: #ff0000;\n",
              "  color: #f1f1f1;\n",
              "}\n",
              "#T_ca745_row1_col0, #T_ca745_row1_col1 {\n",
              "  background-color: #f3f0f0;\n",
              "  color: #000000;\n",
              "}\n",
              "#T_ca745_row2_col1 {\n",
              "  background-color: #fb4a4a;\n",
              "  color: #f1f1f1;\n",
              "}\n",
              "</style>\n",
              "<table id=\"T_ca745\" class=\"dataframe\">\n",
              "  <thead>\n",
              "    <tr>\n",
              "      <th class=\"index_name level0\" >target</th>\n",
              "      <th id=\"T_ca745_level0_col0\" class=\"col_heading level0 col0\" >0</th>\n",
              "      <th id=\"T_ca745_level0_col1\" class=\"col_heading level0 col1\" >1</th>\n",
              "    </tr>\n",
              "    <tr>\n",
              "      <th class=\"index_name level0\" >rest_ecg</th>\n",
              "      <th class=\"blank col0\" >&nbsp;</th>\n",
              "      <th class=\"blank col1\" >&nbsp;</th>\n",
              "    </tr>\n",
              "  </thead>\n",
              "  <tbody>\n",
              "    <tr>\n",
              "      <th id=\"T_ca745_level0_row0\" class=\"row_heading level0 row0\" >ST-T wave abnormality</th>\n",
              "      <td id=\"T_ca745_row0_col0\" class=\"data row0 col0\" >40.880000</td>\n",
              "      <td id=\"T_ca745_row0_col1\" class=\"data row0 col1\" >58.750000</td>\n",
              "    </tr>\n",
              "    <tr>\n",
              "      <th id=\"T_ca745_level0_row1\" class=\"row_heading level0 row1\" >left ventricular hypertrophy</th>\n",
              "      <td id=\"T_ca745_row1_col0\" class=\"data row1 col0\" >2.400000</td>\n",
              "      <td id=\"T_ca745_row1_col1\" class=\"data row1 col1\" >0.570000</td>\n",
              "    </tr>\n",
              "    <tr>\n",
              "      <th id=\"T_ca745_level0_row2\" class=\"row_heading level0 row2\" >normal</th>\n",
              "      <td id=\"T_ca745_row2_col0\" class=\"data row2 col0\" >56.710000</td>\n",
              "      <td id=\"T_ca745_row2_col1\" class=\"data row2 col1\" >40.680000</td>\n",
              "    </tr>\n",
              "  </tbody>\n",
              "</table>\n"
            ]
          },
          "metadata": {},
          "execution_count": 24
        }
      ],
      "source": [
        "#Exploring the Heart Disease patients based on REST ECG\n",
        "plot_criteria= ['rest_ecg', 'target']\n",
        "cm = sns.light_palette(\"red\", as_cmap=True)\n",
        "(round(pd.crosstab(dt[plot_criteria[0]], dt[plot_criteria[1]], normalize='columns') * 100,2)).style.background_gradient(cmap = cm)"
      ]
    },
    {
      "cell_type": "code",
      "execution_count": null,
      "id": "48ebfde3",
      "metadata": {
        "colab": {
          "base_uri": "https://localhost:8080/",
          "height": 353
        },
        "id": "48ebfde3",
        "outputId": "54bd74ee-e83a-4b74-a4c8-abc204227b3f"
      },
      "outputs": [
        {
          "output_type": "display_data",
          "data": {
            "text/plain": [
              "<Figure size 1080x360 with 2 Axes>"
            ],
            "image/png": "[encoded data removed]"
          },
          "metadata": {
            "needs_background": "light"
          }
        }
      ],
      "source": [
        "# plotting normal patients\n",
        "fig = plt.figure(figsize=(15,5))\n",
        "ax1 = plt.subplot2grid((1,2),(0,0))\n",
        "sns.countplot(attr_0['st_slope'])\n",
        "plt.title('ST SLOPE OF NORMAL PATIENTS', fontsize=15, weight='bold')\n",
        "\n",
        "#plotting heart patients\n",
        "ax1 = plt.subplot2grid((1,2),(0,1))\n",
        "sns.countplot(attr_1['st_slope'], palette='viridis')\n",
        "plt.title('ST SLOPE OF HEART PATIENTS', fontsize=15, weight='bold' )\n",
        "plt.show()"
      ]
    },
    {
      "cell_type": "code",
      "execution_count": null,
      "id": "b5728377",
      "metadata": {
        "colab": {
          "base_uri": "https://localhost:8080/",
          "height": 175
        },
        "id": "b5728377",
        "outputId": "692d9624-e072-4789-dc0a-3257a58a26a2"
      },
      "outputs": [
        {
          "output_type": "execute_result",
          "data": {
            "text/plain": [
              "<pandas.io.formats.style.Styler at 0x7fb554291280>"
            ],
            "text/html": [
              "<style type=\"text/css\">\n",
              "#T_629aa_row0_col0 {\n",
              "  background-color: #f6a8a8;\n",
              "  color: #000000;\n",
              "}\n",
              "#T_629aa_row0_col1, #T_629aa_row1_col0 {\n",
              "  background-color: #ff0000;\n",
              "  color: #f1f1f1;\n",
              "}\n",
              "#T_629aa_row1_col1 {\n",
              "  background-color: #f88c8c;\n",
              "  color: #f1f1f1;\n",
              "}\n",
              "#T_629aa_row2_col0, #T_629aa_row2_col1 {\n",
              "  background-color: #f3f0f0;\n",
              "  color: #000000;\n",
              "}\n",
              "</style>\n",
              "<table id=\"T_629aa\" class=\"dataframe\">\n",
              "  <thead>\n",
              "    <tr>\n",
              "      <th class=\"index_name level0\" >target</th>\n",
              "      <th id=\"T_629aa_level0_col0\" class=\"col_heading level0 col0\" >0</th>\n",
              "      <th id=\"T_629aa_level0_col1\" class=\"col_heading level0 col1\" >1</th>\n",
              "    </tr>\n",
              "    <tr>\n",
              "      <th class=\"index_name level0\" >st_slope</th>\n",
              "      <th class=\"blank col0\" >&nbsp;</th>\n",
              "      <th class=\"blank col1\" >&nbsp;</th>\n",
              "    </tr>\n",
              "  </thead>\n",
              "  <tbody>\n",
              "    <tr>\n",
              "      <th id=\"T_629aa_level0_row0\" class=\"row_heading level0 row0\" >downsloping</th>\n",
              "      <td id=\"T_629aa_row0_col0\" class=\"data row0 col0\" >25.850000</td>\n",
              "      <td id=\"T_629aa_row0_col1\" class=\"data row0 col1\" >64.640000</td>\n",
              "    </tr>\n",
              "    <tr>\n",
              "      <th id=\"T_629aa_level0_row1\" class=\"row_heading level0 row1\" >flat</th>\n",
              "      <td id=\"T_629aa_row1_col0\" class=\"data row1 col0\" >64.930000</td>\n",
              "      <td id=\"T_629aa_row1_col1\" class=\"data row1 col1\" >30.040000</td>\n",
              "    </tr>\n",
              "    <tr>\n",
              "      <th id=\"T_629aa_level0_row2\" class=\"row_heading level0 row2\" >upsloping</th>\n",
              "      <td id=\"T_629aa_row2_col0\" class=\"data row2 col0\" >9.220000</td>\n",
              "      <td id=\"T_629aa_row2_col1\" class=\"data row2 col1\" >5.320000</td>\n",
              "    </tr>\n",
              "  </tbody>\n",
              "</table>\n"
            ]
          },
          "metadata": {},
          "execution_count": 26
        }
      ],
      "source": [
        "#Exploring the Heart Disease patients based on ST Slope\n",
        "plot_criteria= ['st_slope', 'target']\n",
        "cm = sns.light_palette(\"red\", as_cmap=True)\n",
        "(round(pd.crosstab(dt[plot_criteria[0]], dt[plot_criteria[1]], normalize='columns') * 100,2)).style.background_gradient(cmap = cm)"
      ]
    },
    {
      "cell_type": "code",
      "execution_count": null,
      "id": "18848b30",
      "metadata": {
        "colab": {
          "base_uri": "https://localhost:8080/",
          "height": 567
        },
        "id": "18848b30",
        "outputId": "f2383f4b-e231-4982-a50d-be8eb80f1148"
      },
      "outputs": [
        {
          "output_type": "execute_result",
          "data": {
            "text/plain": [
              "<seaborn.axisgrid.PairGrid at 0x7fb5542593a0>"
            ]
          },
          "metadata": {},
          "execution_count": 27
        },
        {
          "output_type": "display_data",
          "data": {
            "text/plain": [
              "<Figure size 582.375x540 with 12 Axes>"
            ],
            "image/png": "[encoded data removed]"
          },
          "metadata": {
            "needs_background": "light"
          }
        }
      ],
      "source": [
        "sns.pairplot(dt, hue = 'target', vars = ['age', 'resting_blood_pressure', 'cholesterol'] )\n"
      ]
    },
    {
      "cell_type": "code",
      "execution_count": null,
      "id": "926eeb58",
      "metadata": {
        "colab": {
          "base_uri": "https://localhost:8080/",
          "height": 297
        },
        "id": "926eeb58",
        "outputId": "8575e4bb-0259-4f05-ac44-4df6f57c9822"
      },
      "outputs": [
        {
          "output_type": "execute_result",
          "data": {
            "text/plain": [
              "<AxesSubplot:xlabel='resting_blood_pressure', ylabel='cholesterol'>"
            ]
          },
          "metadata": {},
          "execution_count": 28
        },
        {
          "output_type": "display_data",
          "data": {
            "text/plain": [
              "<Figure size 432x288 with 1 Axes>"
            ],
            "image/png": "[encoded data removed]"
          },
          "metadata": {
            "needs_background": "light"
          }
        }
      ],
      "source": [
        "sns.scatterplot(x = 'resting_blood_pressure', y = 'cholesterol', hue = 'target', data = dt)"
      ]
    },
    {
      "cell_type": "code",
      "execution_count": null,
      "id": "f733deb8",
      "metadata": {
        "colab": {
          "base_uri": "https://localhost:8080/",
          "height": 297
        },
        "id": "f733deb8",
        "outputId": "58f0d4db-bcec-48fc-98bc-fbe542121fbe"
      },
      "outputs": [
        {
          "output_type": "execute_result",
          "data": {
            "text/plain": [
              "<AxesSubplot:xlabel='resting_blood_pressure', ylabel='age'>"
            ]
          },
          "metadata": {},
          "execution_count": 29
        },
        {
          "output_type": "display_data",
          "data": {
            "text/plain": [
              "<Figure size 432x288 with 1 Axes>"
            ],
            "image/png": "[encoded data removed]"
          },
          "metadata": {
            "needs_background": "light"
          }
        }
      ],
      "source": [
        "sns.scatterplot(x = 'resting_blood_pressure', y = 'age', hue = 'target', data = dt)"
      ]
    },
    {
      "cell_type": "code",
      "execution_count": null,
      "id": "05c8fe67",
      "metadata": {
        "id": "05c8fe67"
      },
      "outputs": [],
      "source": [
        "# filtering numeric features as age , resting bp, cholestrol and max heart rate achieved has outliers as per EDA\n",
        "\n",
        "dt_numeric = dt[['age','resting_blood_pressure','cholesterol','max_heart_rate_achieved']]"
      ]
    },
    {
      "cell_type": "code",
      "execution_count": null,
      "id": "6fa2dd19",
      "metadata": {
        "colab": {
          "base_uri": "https://localhost:8080/",
          "height": 206
        },
        "id": "6fa2dd19",
        "outputId": "0ca5839a-7349-49b7-8bab-51ff0c7efb22"
      },
      "outputs": [
        {
          "output_type": "execute_result",
          "data": {
            "text/plain": [
              "   age  resting_blood_pressure  cholesterol  max_heart_rate_achieved\n",
              "0   52                     125          212                      168\n",
              "1   53                     140          203                      155\n",
              "2   70                     145          174                      125\n",
              "3   61                     148          203                      161\n",
              "4   62                     138          294                      106"
            ],
            "text/html": [
              "\n",
              "  <div id=\"df-c5f488d4-4b41-4f74-9a29-35e3c4970ee7\">\n",
              "    <div class=\"colab-df-container\">\n",
              "      <div>\n",
              "<style scoped>\n",
              "    .dataframe tbody tr th:only-of-type {\n",
              "        vertical-align: middle;\n",
              "    }\n",
              "\n",
              "    .dataframe tbody tr th {\n",
              "        vertical-align: top;\n",
              "    }\n",
              "\n",
              "    .dataframe thead th {\n",
              "        text-align: right;\n",
              "    }\n",
              "</style>\n",
              "<table border=\"1\" class=\"dataframe\">\n",
              "  <thead>\n",
              "    <tr style=\"text-align: right;\">\n",
              "      <th></th>\n",
              "      <th>age</th>\n",
              "      <th>resting_blood_pressure</th>\n",
              "      <th>cholesterol</th>\n",
              "      <th>max_heart_rate_achieved</th>\n",
              "    </tr>\n",
              "  </thead>\n",
              "  <tbody>\n",
              "    <tr>\n",
              "      <th>0</th>\n",
              "      <td>52</td>\n",
              "      <td>125</td>\n",
              "      <td>212</td>\n",
              "      <td>168</td>\n",
              "    </tr>\n",
              "    <tr>\n",
              "      <th>1</th>\n",
              "      <td>53</td>\n",
              "      <td>140</td>\n",
              "      <td>203</td>\n",
              "      <td>155</td>\n",
              "    </tr>\n",
              "    <tr>\n",
              "      <th>2</th>\n",
              "      <td>70</td>\n",
              "      <td>145</td>\n",
              "      <td>174</td>\n",
              "      <td>125</td>\n",
              "    </tr>\n",
              "    <tr>\n",
              "      <th>3</th>\n",
              "      <td>61</td>\n",
              "      <td>148</td>\n",
              "      <td>203</td>\n",
              "      <td>161</td>\n",
              "    </tr>\n",
              "    <tr>\n",
              "      <th>4</th>\n",
              "      <td>62</td>\n",
              "      <td>138</td>\n",
              "      <td>294</td>\n",
              "      <td>106</td>\n",
              "    </tr>\n",
              "  </tbody>\n",
              "</table>\n",
              "</div>\n",
              "      <button class=\"colab-df-convert\" onclick=\"convertToInteractive('df-c5f488d4-4b41-4f74-9a29-35e3c4970ee7')\"\n",
              "              title=\"Convert this dataframe to an interactive table.\"\n",
              "              style=\"display:none;\">\n",
              "        \n",
              "  <svg xmlns=\"http://www.w3.org/2000/svg\" height=\"24px\"viewBox=\"0 0 24 24\"\n",
              "       width=\"24px\">\n",
              "    <path d=\"M0 0h24v24H0V0z\" fill=\"none\"/>\n",
              "    <path d=\"M18.56 5.44l.94 2.06.94-2.06 2.06-.94-2.06-.94-.94-2.06-.94 2.06-2.06.94zm-11 1L8.5 8.5l.94-2.06 2.06-.94-2.06-.94L8.5 2.5l-.94 2.06-2.06.94zm10 10l.94 2.06.94-2.06 2.06-.94-2.06-.94-.94-2.06-.94 2.06-2.06.94z\"/><path d=\"M17.41 7.96l-1.37-1.37c-.4-.4-.92-.59-1.43-.59-.52 0-1.04.2-1.43.59L10.3 9.45l-7.72 7.72c-.78.78-.78 2.05 0 2.83L4 21.41c.39.39.9.59 1.41.59.51 0 1.02-.2 1.41-.59l7.78-7.78 2.81-2.81c.8-.78.8-2.07 0-2.86zM5.41 20L4 18.59l7.72-7.72 1.47 1.35L5.41 20z\"/>\n",
              "  </svg>\n",
              "      </button>\n",
              "      \n",
              "  <style>\n",
              "    .colab-df-container {\n",
              "      display:flex;\n",
              "      flex-wrap:wrap;\n",
              "      gap: 12px;\n",
              "    }\n",
              "\n",
              "    .colab-df-convert {\n",
              "      background-color: #E8F0FE;\n",
              "      border: none;\n",
              "      border-radius: 50%;\n",
              "      cursor: pointer;\n",
              "      display: none;\n",
              "      fill: #1967D2;\n",
              "      height: 32px;\n",
              "      padding: 0 0 0 0;\n",
              "      width: 32px;\n",
              "    }\n",
              "\n",
              "    .colab-df-convert:hover {\n",
              "      background-color: #E2EBFA;\n",
              "      box-shadow: 0px 1px 2px rgba(60, 64, 67, 0.3), 0px 1px 3px 1px rgba(60, 64, 67, 0.15);\n",
              "      fill: #174EA6;\n",
              "    }\n",
              "\n",
              "    [theme=dark] .colab-df-convert {\n",
              "      background-color: #3B4455;\n",
              "      fill: #D2E3FC;\n",
              "    }\n",
              "\n",
              "    [theme=dark] .colab-df-convert:hover {\n",
              "      background-color: #434B5C;\n",
              "      box-shadow: 0px 1px 3px 1px rgba(0, 0, 0, 0.15);\n",
              "      filter: drop-shadow(0px 1px 2px rgba(0, 0, 0, 0.3));\n",
              "      fill: #FFFFFF;\n",
              "    }\n",
              "  </style>\n",
              "\n",
              "      <script>\n",
              "        const buttonEl =\n",
              "          document.querySelector('#df-c5f488d4-4b41-4f74-9a29-35e3c4970ee7 button.colab-df-convert');\n",
              "        buttonEl.style.display =\n",
              "          google.colab.kernel.accessAllowed ? 'block' : 'none';\n",
              "\n",
              "        async function convertToInteractive(key) {\n",
              "          const element = document.querySelector('#df-c5f488d4-4b41-4f74-9a29-35e3c4970ee7');\n",
              "          const dataTable =\n",
              "            await google.colab.kernel.invokeFunction('convertToInteractive',\n",
              "                                                     [key], {});\n",
              "          if (!dataTable) return;\n",
              "\n",
              "          const docLinkHtml = 'Like what you see? Visit the ' +\n",
              "            '<a target=\"_blank\" href=https://colab.research.google.com/notebooks/data_table.ipynb>data table notebook</a>'\n",
              "            + ' to learn more about interactive tables.';\n",
              "          element.innerHTML = '';\n",
              "          dataTable['output_type'] = 'display_data';\n",
              "          await google.colab.output.renderOutput(dataTable, element);\n",
              "          const docLink = document.createElement('div');\n",
              "          docLink.innerHTML = docLinkHtml;\n",
              "          element.appendChild(docLink);\n",
              "        }\n",
              "      </script>\n",
              "    </div>\n",
              "  </div>\n",
              "  "
            ]
          },
          "metadata": {},
          "execution_count": 31
        }
      ],
      "source": [
        "dt_numeric.head()"
      ]
    },
    {
      "cell_type": "code",
      "execution_count": null,
      "id": "d0b7f26b",
      "metadata": {
        "colab": {
          "base_uri": "https://localhost:8080/"
        },
        "id": "d0b7f26b",
        "outputId": "ce884903-071b-459a-91ab-5504168b29e7"
      },
      "outputs": [
        {
          "output_type": "stream",
          "name": "stdout",
          "text": [
            "           age  resting_blood_pressure  cholesterol  max_heart_rate_achieved\n",
            "0     0.268437                0.377636     0.659332                 0.821321\n",
            "1     0.158157                0.479107     0.833861                 0.255968\n",
            "2     1.716595                0.764688     1.396233                 1.048692\n",
            "3     0.724079                0.936037     0.833861                 0.516900\n",
            "4     0.834359                0.364875     0.930822                 1.874977\n",
            "...        ...                     ...          ...                      ...\n",
            "1020  0.503520                0.479107     0.484803                 0.647366\n",
            "1021  0.613800                0.377636     0.232705                 0.352873\n",
            "1022  0.819834                1.234378     0.562371                 1.353113\n",
            "1023  0.488996                1.234378     0.155137                 0.429923\n",
            "1024  0.047877                0.663216     1.124743                 1.570556\n",
            "\n",
            "[1025 rows x 4 columns]\n"
          ]
        }
      ],
      "source": [
        "# calculating zscore of numeric columns in the dataset\n",
        "z = np.abs(stats.zscore(dt_numeric))\n",
        "print(z)"
      ]
    },
    {
      "cell_type": "code",
      "execution_count": null,
      "id": "96c642ce",
      "metadata": {
        "colab": {
          "base_uri": "https://localhost:8080/"
        },
        "id": "96c642ce",
        "outputId": "6cf48c9b-265e-4904-c670-d0f1dcd2cf4e"
      },
      "outputs": [
        {
          "output_type": "stream",
          "name": "stdout",
          "text": [
            "(array([123, 151, 158, 175, 179, 192, 246, 267, 294, 296, 326, 378, 450,\n",
            "       464, 481, 508, 559, 641, 665, 685, 688, 889, 958, 996]), array([2, 1, 2, 1, 2, 2, 1, 3, 1, 3, 1, 3, 2, 2, 2, 1, 3, 2, 2, 2, 1, 2,\n",
            "       2, 2]))\n"
          ]
        }
      ],
      "source": [
        "# Defining threshold for filtering outliers \n",
        "threshold = 3\n",
        "print(np.where(z > 3))"
      ]
    },
    {
      "cell_type": "code",
      "execution_count": null,
      "id": "cd65f586",
      "metadata": {
        "id": "cd65f586"
      },
      "outputs": [],
      "source": [
        "#filtering outliers retaining only those data points which are below threshhold\n",
        "dt = dt[(z < 3).all(axis=1)]"
      ]
    },
    {
      "cell_type": "code",
      "execution_count": null,
      "id": "cf82abe6",
      "metadata": {
        "colab": {
          "base_uri": "https://localhost:8080/"
        },
        "id": "cf82abe6",
        "outputId": "bc9a0614-9d1a-4eac-dc04-58fe1c729e62"
      },
      "outputs": [
        {
          "output_type": "execute_result",
          "data": {
            "text/plain": [
              "(1001, 14)"
            ]
          },
          "metadata": {},
          "execution_count": 35
        }
      ],
      "source": [
        "# checking shape of dataset after outlier removal\n",
        "dt.shape"
      ]
    },
    {
      "cell_type": "code",
      "execution_count": null,
      "id": "7911ee4b",
      "metadata": {
        "colab": {
          "base_uri": "https://localhost:8080/",
          "height": 305
        },
        "id": "7911ee4b",
        "outputId": "61b967fe-79cd-4285-affc-beeba1582b52"
      },
      "outputs": [
        {
          "output_type": "execute_result",
          "data": {
            "text/plain": [
              "   age  resting_blood_pressure  cholesterol  fasting_blood_sugar  \\\n",
              "0   52                     125          212                    0   \n",
              "1   53                     140          203                    1   \n",
              "2   70                     145          174                    0   \n",
              "3   61                     148          203                    0   \n",
              "4   62                     138          294                    1   \n",
              "\n",
              "   max_heart_rate_achieved  exercise_induced_angina  st_depression  \\\n",
              "0                      168                        0            1.0   \n",
              "1                      155                        1            3.1   \n",
              "2                      125                        1            2.6   \n",
              "3                      161                        0            0.0   \n",
              "4                      106                        0            1.9   \n",
              "\n",
              "   nb_vessels  target  sex_male  chest_pain_type_atypical angina  \\\n",
              "0           2       0         1                                0   \n",
              "1           0       0         1                                0   \n",
              "2           0       0         1                                0   \n",
              "3           1       0         1                                0   \n",
              "4           3       0         0                                0   \n",
              "\n",
              "   chest_pain_type_non-anginal pain  chest_pain_type_typical angina  \\\n",
              "0                                 0                               0   \n",
              "1                                 0                               0   \n",
              "2                                 0                               0   \n",
              "3                                 0                               0   \n",
              "4                                 0                               0   \n",
              "\n",
              "   rest_ecg_left ventricular hypertrophy  rest_ecg_normal  st_slope_flat  \\\n",
              "0                                      0                0              0   \n",
              "1                                      0                1              0   \n",
              "2                                      0                0              0   \n",
              "3                                      0                0              0   \n",
              "4                                      0                0              1   \n",
              "\n",
              "   st_slope_upsloping  thal_défaut fixe  thal_défaut réversible  thal_normal  \n",
              "0                   0                 0                       0            0  \n",
              "1                   1                 0                       0            0  \n",
              "2                   1                 0                       0            0  \n",
              "3                   0                 0                       0            0  \n",
              "4                   0                 0                       1            0  "
            ],
            "text/html": [
              "\n",
              "  <div id=\"df-db3f7334-4980-4fbd-ad6c-1a197b6b5d53\">\n",
              "    <div class=\"colab-df-container\">\n",
              "      <div>\n",
              "<style scoped>\n",
              "    .dataframe tbody tr th:only-of-type {\n",
              "        vertical-align: middle;\n",
              "    }\n",
              "\n",
              "    .dataframe tbody tr th {\n",
              "        vertical-align: top;\n",
              "    }\n",
              "\n",
              "    .dataframe thead th {\n",
              "        text-align: right;\n",
              "    }\n",
              "</style>\n",
              "<table border=\"1\" class=\"dataframe\">\n",
              "  <thead>\n",
              "    <tr style=\"text-align: right;\">\n",
              "      <th></th>\n",
              "      <th>age</th>\n",
              "      <th>resting_blood_pressure</th>\n",
              "      <th>cholesterol</th>\n",
              "      <th>fasting_blood_sugar</th>\n",
              "      <th>max_heart_rate_achieved</th>\n",
              "      <th>exercise_induced_angina</th>\n",
              "      <th>st_depression</th>\n",
              "      <th>nb_vessels</th>\n",
              "      <th>target</th>\n",
              "      <th>sex_male</th>\n",
              "      <th>chest_pain_type_atypical angina</th>\n",
              "      <th>chest_pain_type_non-anginal pain</th>\n",
              "      <th>chest_pain_type_typical angina</th>\n",
              "      <th>rest_ecg_left ventricular hypertrophy</th>\n",
              "      <th>rest_ecg_normal</th>\n",
              "      <th>st_slope_flat</th>\n",
              "      <th>st_slope_upsloping</th>\n",
              "      <th>thal_défaut fixe</th>\n",
              "      <th>thal_défaut réversible</th>\n",
              "      <th>thal_normal</th>\n",
              "    </tr>\n",
              "  </thead>\n",
              "  <tbody>\n",
              "    <tr>\n",
              "      <th>0</th>\n",
              "      <td>52</td>\n",
              "      <td>125</td>\n",
              "      <td>212</td>\n",
              "      <td>0</td>\n",
              "      <td>168</td>\n",
              "      <td>0</td>\n",
              "      <td>1.0</td>\n",
              "      <td>2</td>\n",
              "      <td>0</td>\n",
              "      <td>1</td>\n",
              "      <td>0</td>\n",
              "      <td>0</td>\n",
              "      <td>0</td>\n",
              "      <td>0</td>\n",
              "      <td>0</td>\n",
              "      <td>0</td>\n",
              "      <td>0</td>\n",
              "      <td>0</td>\n",
              "      <td>0</td>\n",
              "      <td>0</td>\n",
              "    </tr>\n",
              "    <tr>\n",
              "      <th>1</th>\n",
              "      <td>53</td>\n",
              "      <td>140</td>\n",
              "      <td>203</td>\n",
              "      <td>1</td>\n",
              "      <td>155</td>\n",
              "      <td>1</td>\n",
              "      <td>3.1</td>\n",
              "      <td>0</td>\n",
              "      <td>0</td>\n",
              "      <td>1</td>\n",
              "      <td>0</td>\n",
              "      <td>0</td>\n",
              "      <td>0</td>\n",
              "      <td>0</td>\n",
              "      <td>1</td>\n",
              "      <td>0</td>\n",
              "      <td>1</td>\n",
              "      <td>0</td>\n",
              "      <td>0</td>\n",
              "      <td>0</td>\n",
              "    </tr>\n",
              "    <tr>\n",
              "      <th>2</th>\n",
              "      <td>70</td>\n",
              "      <td>145</td>\n",
              "      <td>174</td>\n",
              "      <td>0</td>\n",
              "      <td>125</td>\n",
              "      <td>1</td>\n",
              "      <td>2.6</td>\n",
              "      <td>0</td>\n",
              "      <td>0</td>\n",
              "      <td>1</td>\n",
              "      <td>0</td>\n",
              "      <td>0</td>\n",
              "      <td>0</td>\n",
              "      <td>0</td>\n",
              "      <td>0</td>\n",
              "      <td>0</td>\n",
              "      <td>1</td>\n",
              "      <td>0</td>\n",
              "      <td>0</td>\n",
              "      <td>0</td>\n",
              "    </tr>\n",
              "    <tr>\n",
              "      <th>3</th>\n",
              "      <td>61</td>\n",
              "      <td>148</td>\n",
              "      <td>203</td>\n",
              "      <td>0</td>\n",
              "      <td>161</td>\n",
              "      <td>0</td>\n",
              "      <td>0.0</td>\n",
              "      <td>1</td>\n",
              "      <td>0</td>\n",
              "      <td>1</td>\n",
              "      <td>0</td>\n",
              "      <td>0</td>\n",
              "      <td>0</td>\n",
              "      <td>0</td>\n",
              "      <td>0</td>\n",
              "      <td>0</td>\n",
              "      <td>0</td>\n",
              "      <td>0</td>\n",
              "      <td>0</td>\n",
              "      <td>0</td>\n",
              "    </tr>\n",
              "    <tr>\n",
              "      <th>4</th>\n",
              "      <td>62</td>\n",
              "      <td>138</td>\n",
              "      <td>294</td>\n",
              "      <td>1</td>\n",
              "      <td>106</td>\n",
              "      <td>0</td>\n",
              "      <td>1.9</td>\n",
              "      <td>3</td>\n",
              "      <td>0</td>\n",
              "      <td>0</td>\n",
              "      <td>0</td>\n",
              "      <td>0</td>\n",
              "      <td>0</td>\n",
              "      <td>0</td>\n",
              "      <td>0</td>\n",
              "      <td>1</td>\n",
              "      <td>0</td>\n",
              "      <td>0</td>\n",
              "      <td>1</td>\n",
              "      <td>0</td>\n",
              "    </tr>\n",
              "  </tbody>\n",
              "</table>\n",
              "</div>\n",
              "      <button class=\"colab-df-convert\" onclick=\"convertToInteractive('df-db3f7334-4980-4fbd-ad6c-1a197b6b5d53')\"\n",
              "              title=\"Convert this dataframe to an interactive table.\"\n",
              "              style=\"display:none;\">\n",
              "        \n",
              "  <svg xmlns=\"http://www.w3.org/2000/svg\" height=\"24px\"viewBox=\"0 0 24 24\"\n",
              "       width=\"24px\">\n",
              "    <path d=\"M0 0h24v24H0V0z\" fill=\"none\"/>\n",
              "    <path d=\"M18.56 5.44l.94 2.06.94-2.06 2.06-.94-2.06-.94-.94-2.06-.94 2.06-2.06.94zm-11 1L8.5 8.5l.94-2.06 2.06-.94-2.06-.94L8.5 2.5l-.94 2.06-2.06.94zm10 10l.94 2.06.94-2.06 2.06-.94-2.06-.94-.94-2.06-.94 2.06-2.06.94z\"/><path d=\"M17.41 7.96l-1.37-1.37c-.4-.4-.92-.59-1.43-.59-.52 0-1.04.2-1.43.59L10.3 9.45l-7.72 7.72c-.78.78-.78 2.05 0 2.83L4 21.41c.39.39.9.59 1.41.59.51 0 1.02-.2 1.41-.59l7.78-7.78 2.81-2.81c.8-.78.8-2.07 0-2.86zM5.41 20L4 18.59l7.72-7.72 1.47 1.35L5.41 20z\"/>\n",
              "  </svg>\n",
              "      </button>\n",
              "      \n",
              "  <style>\n",
              "    .colab-df-container {\n",
              "      display:flex;\n",
              "      flex-wrap:wrap;\n",
              "      gap: 12px;\n",
              "    }\n",
              "\n",
              "    .colab-df-convert {\n",
              "      background-color: #E8F0FE;\n",
              "      border: none;\n",
              "      border-radius: 50%;\n",
              "      cursor: pointer;\n",
              "      display: none;\n",
              "      fill: #1967D2;\n",
              "      height: 32px;\n",
              "      padding: 0 0 0 0;\n",
              "      width: 32px;\n",
              "    }\n",
              "\n",
              "    .colab-df-convert:hover {\n",
              "      background-color: #E2EBFA;\n",
              "      box-shadow: 0px 1px 2px rgba(60, 64, 67, 0.3), 0px 1px 3px 1px rgba(60, 64, 67, 0.15);\n",
              "      fill: #174EA6;\n",
              "    }\n",
              "\n",
              "    [theme=dark] .colab-df-convert {\n",
              "      background-color: #3B4455;\n",
              "      fill: #D2E3FC;\n",
              "    }\n",
              "\n",
              "    [theme=dark] .colab-df-convert:hover {\n",
              "      background-color: #434B5C;\n",
              "      box-shadow: 0px 1px 3px 1px rgba(0, 0, 0, 0.15);\n",
              "      filter: drop-shadow(0px 1px 2px rgba(0, 0, 0, 0.3));\n",
              "      fill: #FFFFFF;\n",
              "    }\n",
              "  </style>\n",
              "\n",
              "      <script>\n",
              "        const buttonEl =\n",
              "          document.querySelector('#df-db3f7334-4980-4fbd-ad6c-1a197b6b5d53 button.colab-df-convert');\n",
              "        buttonEl.style.display =\n",
              "          google.colab.kernel.accessAllowed ? 'block' : 'none';\n",
              "\n",
              "        async function convertToInteractive(key) {\n",
              "          const element = document.querySelector('#df-db3f7334-4980-4fbd-ad6c-1a197b6b5d53');\n",
              "          const dataTable =\n",
              "            await google.colab.kernel.invokeFunction('convertToInteractive',\n",
              "                                                     [key], {});\n",
              "          if (!dataTable) return;\n",
              "\n",
              "          const docLinkHtml = 'Like what you see? Visit the ' +\n",
              "            '<a target=\"_blank\" href=https://colab.research.google.com/notebooks/data_table.ipynb>data table notebook</a>'\n",
              "            + ' to learn more about interactive tables.';\n",
              "          element.innerHTML = '';\n",
              "          dataTable['output_type'] = 'display_data';\n",
              "          await google.colab.output.renderOutput(dataTable, element);\n",
              "          const docLink = document.createElement('div');\n",
              "          docLink.innerHTML = docLinkHtml;\n",
              "          element.appendChild(docLink);\n",
              "        }\n",
              "      </script>\n",
              "    </div>\n",
              "  </div>\n",
              "  "
            ]
          },
          "metadata": {},
          "execution_count": 36
        }
      ],
      "source": [
        "## encoding categorical variables\n",
        "dt = pd.get_dummies(dt, drop_first=True)\n",
        "\n",
        "dt.head()"
      ]
    },
    {
      "cell_type": "code",
      "execution_count": null,
      "id": "e36727d1",
      "metadata": {
        "colab": {
          "base_uri": "https://localhost:8080/"
        },
        "id": "e36727d1",
        "outputId": "32322c65-64db-43c1-f638-3d3811534b1e"
      },
      "outputs": [
        {
          "output_type": "execute_result",
          "data": {
            "text/plain": [
              "(1001, 20)"
            ]
          },
          "metadata": {},
          "execution_count": 37
        }
      ],
      "source": [
        "# checking the shape of dataset\n",
        "dt.shape"
      ]
    },
    {
      "cell_type": "code",
      "execution_count": null,
      "id": "36c3328d",
      "metadata": {
        "id": "36c3328d"
      },
      "outputs": [],
      "source": [
        "# segregating dataset into features i.e., X and target variables i.e., y\n",
        "X= dt.drop(['target'],axis=1)\n",
        "y= dt['target']"
      ]
    },
    {
      "cell_type": "code",
      "execution_count": null,
      "id": "4ee1abb9",
      "metadata": {
        "colab": {
          "base_uri": "https://localhost:8080/",
          "height": 568
        },
        "id": "4ee1abb9",
        "outputId": "87eda482-dd70-4b97-d7fc-a3cabe14c855"
      },
      "outputs": [
        {
          "output_type": "execute_result",
          "data": {
            "text/plain": [
              "<AxesSubplot:title={'center':'Correlation with Diabetes'}>"
            ]
          },
          "metadata": {},
          "execution_count": 39
        },
        {
          "output_type": "display_data",
          "data": {
            "text/plain": [
              "<Figure size 1152x288 with 1 Axes>"
            ],
            "image/png": "[encoded data removed]"
          },
          "metadata": {
            "needs_background": "light"
          }
        }
      ],
      "source": [
        "#Correlation with Response Variable class\n",
        "\n",
        "X.corrwith(y).plot.bar(\n",
        "        figsize = (16, 4), title = \"Correlation with Diabetes\", fontsize = 15,\n",
        "        rot = 90, grid = True)"
      ]
    },
    {
      "cell_type": "code",
      "execution_count": null,
      "id": "e5484860",
      "metadata": {
        "id": "e5484860"
      },
      "outputs": [],
      "source": [
        "X_train, X_test, y_train, y_test = train_test_split(X, y, stratify=y, test_size=0.2,shuffle=True, random_state=5)"
      ]
    },
    {
      "cell_type": "code",
      "execution_count": null,
      "id": "122f5874",
      "metadata": {
        "colab": {
          "base_uri": "https://localhost:8080/"
        },
        "id": "122f5874",
        "outputId": "c7ac3854-6c50-44c0-95cb-6fd5e04d77ae"
      },
      "outputs": [
        {
          "output_type": "stream",
          "name": "stdout",
          "text": [
            "Distribution of traget variable in training set\n",
            "1    416\n",
            "0    384\n",
            "Name: target, dtype: int64\n",
            "Distribution of traget variable in test set\n",
            "1    104\n",
            "0     97\n",
            "Name: target, dtype: int64\n"
          ]
        }
      ],
      "source": [
        "## checking distribution of traget variable in train test split\n",
        "print('Distribution of traget variable in training set')\n",
        "print(y_train.value_counts())\n",
        "\n",
        "print('Distribution of traget variable in test set')\n",
        "print(y_test.value_counts())"
      ]
    },
    {
      "cell_type": "code",
      "execution_count": null,
      "id": "c71af894",
      "metadata": {
        "colab": {
          "base_uri": "https://localhost:8080/"
        },
        "id": "c71af894",
        "outputId": "e6d11846-fbab-4447-ae36-55a387f88c83"
      },
      "outputs": [
        {
          "output_type": "stream",
          "name": "stdout",
          "text": [
            "------------Training Set------------------\n",
            "(800, 19)\n",
            "(800,)\n",
            "------------Test Set------------------\n",
            "(201, 19)\n",
            "(201,)\n"
          ]
        }
      ],
      "source": [
        "print('------------Training Set------------------')\n",
        "print(X_train.shape)\n",
        "print(y_train.shape)\n",
        "\n",
        "print('------------Test Set------------------')\n",
        "print(X_test.shape)\n",
        "print(y_test.shape)"
      ]
    },
    {
      "cell_type": "code",
      "execution_count": null,
      "id": "b42f55fa",
      "metadata": {
        "colab": {
          "base_uri": "https://localhost:8080/",
          "height": 305
        },
        "id": "b42f55fa",
        "outputId": "7ca3e0cb-6bdf-40e3-88bb-a1b324f17213"
      },
      "outputs": [
        {
          "output_type": "execute_result",
          "data": {
            "text/plain": [
              "          age  resting_blood_pressure  cholesterol  fasting_blood_sugar  \\\n",
              "692  0.500000                0.534884     0.287313                    1   \n",
              "291  0.604167                0.395349     0.496269                    0   \n",
              "479  0.604167                0.395349     0.335821                    0   \n",
              "521  0.604167                0.360465     0.350746                    0   \n",
              "771  0.333333                0.511628     0.410448                    0   \n",
              "\n",
              "     max_heart_rate_achieved  exercise_induced_angina  st_depression  \\\n",
              "692                 0.587719                        1       0.500000   \n",
              "291                 0.368421                        1       0.483871   \n",
              "479                 0.377193                        1       0.354839   \n",
              "521                 0.491228                        0       0.064516   \n",
              "771                 0.561404                        1       0.032258   \n",
              "\n",
              "     nb_vessels  sex_male  chest_pain_type_atypical angina  \\\n",
              "692           0         1                                0   \n",
              "291           2         1                                0   \n",
              "479           3         1                                0   \n",
              "521           4         1                                0   \n",
              "771           0         0                                0   \n",
              "\n",
              "     chest_pain_type_non-anginal pain  chest_pain_type_typical angina  \\\n",
              "692                                 0                               0   \n",
              "291                                 0                               0   \n",
              "479                                 0                               0   \n",
              "521                                 0                               1   \n",
              "771                                 0                               0   \n",
              "\n",
              "     rest_ecg_left ventricular hypertrophy  rest_ecg_normal  st_slope_flat  \\\n",
              "692                                      0                1              0   \n",
              "291                                      0                1              1   \n",
              "479                                      0                1              1   \n",
              "521                                      0                0              1   \n",
              "771                                      0                1              1   \n",
              "\n",
              "     st_slope_upsloping  thal_défaut fixe  thal_défaut réversible  thal_normal  \n",
              "692                   1                 0                       0            0  \n",
              "291                   0                 0                       0            0  \n",
              "479                   0                 0                       0            0  \n",
              "521                   0                 0                       0            0  \n",
              "771                   0                 0                       1            0  "
            ],
            "text/html": [
              "\n",
              "  <div id=\"df-d984ff1a-0861-412c-b077-00287128f348\">\n",
              "    <div class=\"colab-df-container\">\n",
              "      <div>\n",
              "<style scoped>\n",
              "    .dataframe tbody tr th:only-of-type {\n",
              "        vertical-align: middle;\n",
              "    }\n",
              "\n",
              "    .dataframe tbody tr th {\n",
              "        vertical-align: top;\n",
              "    }\n",
              "\n",
              "    .dataframe thead th {\n",
              "        text-align: right;\n",
              "    }\n",
              "</style>\n",
              "<table border=\"1\" class=\"dataframe\">\n",
              "  <thead>\n",
              "    <tr style=\"text-align: right;\">\n",
              "      <th></th>\n",
              "      <th>age</th>\n",
              "      <th>resting_blood_pressure</th>\n",
              "      <th>cholesterol</th>\n",
              "      <th>fasting_blood_sugar</th>\n",
              "      <th>max_heart_rate_achieved</th>\n",
              "      <th>exercise_induced_angina</th>\n",
              "      <th>st_depression</th>\n",
              "      <th>nb_vessels</th>\n",
              "      <th>sex_male</th>\n",
              "      <th>chest_pain_type_atypical angina</th>\n",
              "      <th>chest_pain_type_non-anginal pain</th>\n",
              "      <th>chest_pain_type_typical angina</th>\n",
              "      <th>rest_ecg_left ventricular hypertrophy</th>\n",
              "      <th>rest_ecg_normal</th>\n",
              "      <th>st_slope_flat</th>\n",
              "      <th>st_slope_upsloping</th>\n",
              "      <th>thal_défaut fixe</th>\n",
              "      <th>thal_défaut réversible</th>\n",
              "      <th>thal_normal</th>\n",
              "    </tr>\n",
              "  </thead>\n",
              "  <tbody>\n",
              "    <tr>\n",
              "      <th>692</th>\n",
              "      <td>0.500000</td>\n",
              "      <td>0.534884</td>\n",
              "      <td>0.287313</td>\n",
              "      <td>1</td>\n",
              "      <td>0.587719</td>\n",
              "      <td>1</td>\n",
              "      <td>0.500000</td>\n",
              "      <td>0</td>\n",
              "      <td>1</td>\n",
              "      <td>0</td>\n",
              "      <td>0</td>\n",
              "      <td>0</td>\n",
              "      <td>0</td>\n",
              "      <td>1</td>\n",
              "      <td>0</td>\n",
              "      <td>1</td>\n",
              "      <td>0</td>\n",
              "      <td>0</td>\n",
              "      <td>0</td>\n",
              "    </tr>\n",
              "    <tr>\n",
              "      <th>291</th>\n",
              "      <td>0.604167</td>\n",
              "      <td>0.395349</td>\n",
              "      <td>0.496269</td>\n",
              "      <td>0</td>\n",
              "      <td>0.368421</td>\n",
              "      <td>1</td>\n",
              "      <td>0.483871</td>\n",
              "      <td>2</td>\n",
              "      <td>1</td>\n",
              "      <td>0</td>\n",
              "      <td>0</td>\n",
              "      <td>0</td>\n",
              "      <td>0</td>\n",
              "      <td>1</td>\n",
              "      <td>1</td>\n",
              "      <td>0</td>\n",
              "      <td>0</td>\n",
              "      <td>0</td>\n",
              "      <td>0</td>\n",
              "    </tr>\n",
              "    <tr>\n",
              "      <th>479</th>\n",
              "      <td>0.604167</td>\n",
              "      <td>0.395349</td>\n",
              "      <td>0.335821</td>\n",
              "      <td>0</td>\n",
              "      <td>0.377193</td>\n",
              "      <td>1</td>\n",
              "      <td>0.354839</td>\n",
              "      <td>3</td>\n",
              "      <td>1</td>\n",
              "      <td>0</td>\n",
              "      <td>0</td>\n",
              "      <td>0</td>\n",
              "      <td>0</td>\n",
              "      <td>1</td>\n",
              "      <td>1</td>\n",
              "      <td>0</td>\n",
              "      <td>0</td>\n",
              "      <td>0</td>\n",
              "      <td>0</td>\n",
              "    </tr>\n",
              "    <tr>\n",
              "      <th>521</th>\n",
              "      <td>0.604167</td>\n",
              "      <td>0.360465</td>\n",
              "      <td>0.350746</td>\n",
              "      <td>0</td>\n",
              "      <td>0.491228</td>\n",
              "      <td>0</td>\n",
              "      <td>0.064516</td>\n",
              "      <td>4</td>\n",
              "      <td>1</td>\n",
              "      <td>0</td>\n",
              "      <td>0</td>\n",
              "      <td>1</td>\n",
              "      <td>0</td>\n",
              "      <td>0</td>\n",
              "      <td>1</td>\n",
              "      <td>0</td>\n",
              "      <td>0</td>\n",
              "      <td>0</td>\n",
              "      <td>0</td>\n",
              "    </tr>\n",
              "    <tr>\n",
              "      <th>771</th>\n",
              "      <td>0.333333</td>\n",
              "      <td>0.511628</td>\n",
              "      <td>0.410448</td>\n",
              "      <td>0</td>\n",
              "      <td>0.561404</td>\n",
              "      <td>1</td>\n",
              "      <td>0.032258</td>\n",
              "      <td>0</td>\n",
              "      <td>0</td>\n",
              "      <td>0</td>\n",
              "      <td>0</td>\n",
              "      <td>0</td>\n",
              "      <td>0</td>\n",
              "      <td>1</td>\n",
              "      <td>1</td>\n",
              "      <td>0</td>\n",
              "      <td>0</td>\n",
              "      <td>1</td>\n",
              "      <td>0</td>\n",
              "    </tr>\n",
              "  </tbody>\n",
              "</table>\n",
              "</div>\n",
              "      <button class=\"colab-df-convert\" onclick=\"convertToInteractive('df-d984ff1a-0861-412c-b077-00287128f348')\"\n",
              "              title=\"Convert this dataframe to an interactive table.\"\n",
              "              style=\"display:none;\">\n",
              "        \n",
              "  <svg xmlns=\"http://www.w3.org/2000/svg\" height=\"24px\"viewBox=\"0 0 24 24\"\n",
              "       width=\"24px\">\n",
              "    <path d=\"M0 0h24v24H0V0z\" fill=\"none\"/>\n",
              "    <path d=\"M18.56 5.44l.94 2.06.94-2.06 2.06-.94-2.06-.94-.94-2.06-.94 2.06-2.06.94zm-11 1L8.5 8.5l.94-2.06 2.06-.94-2.06-.94L8.5 2.5l-.94 2.06-2.06.94zm10 10l.94 2.06.94-2.06 2.06-.94-2.06-.94-.94-2.06-.94 2.06-2.06.94z\"/><path d=\"M17.41 7.96l-1.37-1.37c-.4-.4-.92-.59-1.43-.59-.52 0-1.04.2-1.43.59L10.3 9.45l-7.72 7.72c-.78.78-.78 2.05 0 2.83L4 21.41c.39.39.9.59 1.41.59.51 0 1.02-.2 1.41-.59l7.78-7.78 2.81-2.81c.8-.78.8-2.07 0-2.86zM5.41 20L4 18.59l7.72-7.72 1.47 1.35L5.41 20z\"/>\n",
              "  </svg>\n",
              "      </button>\n",
              "      \n",
              "  <style>\n",
              "    .colab-df-container {\n",
              "      display:flex;\n",
              "      flex-wrap:wrap;\n",
              "      gap: 12px;\n",
              "    }\n",
              "\n",
              "    .colab-df-convert {\n",
              "      background-color: #E8F0FE;\n",
              "      border: none;\n",
              "      border-radius: 50%;\n",
              "      cursor: pointer;\n",
              "      display: none;\n",
              "      fill: #1967D2;\n",
              "      height: 32px;\n",
              "      padding: 0 0 0 0;\n",
              "      width: 32px;\n",
              "    }\n",
              "\n",
              "    .colab-df-convert:hover {\n",
              "      background-color: #E2EBFA;\n",
              "      box-shadow: 0px 1px 2px rgba(60, 64, 67, 0.3), 0px 1px 3px 1px rgba(60, 64, 67, 0.15);\n",
              "      fill: #174EA6;\n",
              "    }\n",
              "\n",
              "    [theme=dark] .colab-df-convert {\n",
              "      background-color: #3B4455;\n",
              "      fill: #D2E3FC;\n",
              "    }\n",
              "\n",
              "    [theme=dark] .colab-df-convert:hover {\n",
              "      background-color: #434B5C;\n",
              "      box-shadow: 0px 1px 3px 1px rgba(0, 0, 0, 0.15);\n",
              "      filter: drop-shadow(0px 1px 2px rgba(0, 0, 0, 0.3));\n",
              "      fill: #FFFFFF;\n",
              "    }\n",
              "  </style>\n",
              "\n",
              "      <script>\n",
              "        const buttonEl =\n",
              "          document.querySelector('#df-d984ff1a-0861-412c-b077-00287128f348 button.colab-df-convert');\n",
              "        buttonEl.style.display =\n",
              "          google.colab.kernel.accessAllowed ? 'block' : 'none';\n",
              "\n",
              "        async function convertToInteractive(key) {\n",
              "          const element = document.querySelector('#df-d984ff1a-0861-412c-b077-00287128f348');\n",
              "          const dataTable =\n",
              "            await google.colab.kernel.invokeFunction('convertToInteractive',\n",
              "                                                     [key], {});\n",
              "          if (!dataTable) return;\n",
              "\n",
              "          const docLinkHtml = 'Like what you see? Visit the ' +\n",
              "            '<a target=\"_blank\" href=https://colab.research.google.com/notebooks/data_table.ipynb>data table notebook</a>'\n",
              "            + ' to learn more about interactive tables.';\n",
              "          element.innerHTML = '';\n",
              "          dataTable['output_type'] = 'display_data';\n",
              "          await google.colab.output.renderOutput(dataTable, element);\n",
              "          const docLink = document.createElement('div');\n",
              "          docLink.innerHTML = docLinkHtml;\n",
              "          element.appendChild(docLink);\n",
              "        }\n",
              "      </script>\n",
              "    </div>\n",
              "  </div>\n",
              "  "
            ]
          },
          "metadata": {},
          "execution_count": 43
        }
      ],
      "source": [
        "from sklearn.preprocessing import MinMaxScaler\n",
        "scaler = MinMaxScaler()\n",
        "X_train[['age','resting_blood_pressure','cholesterol','max_heart_rate_achieved','st_depression']] = scaler.fit_transform(X_train[['age','resting_blood_pressure','cholesterol','max_heart_rate_achieved','st_depression']])\n",
        "X_train.head()"
      ]
    },
    {
      "cell_type": "code",
      "execution_count": null,
      "id": "dce5675f",
      "metadata": {
        "colab": {
          "base_uri": "https://localhost:8080/",
          "height": 305
        },
        "id": "dce5675f",
        "outputId": "bba0d12f-558a-443b-951c-02d7b0de3c44"
      },
      "outputs": [
        {
          "output_type": "execute_result",
          "data": {
            "text/plain": [
              "     age  resting_blood_pressure  cholesterol  fasting_blood_sugar  \\\n",
              "390   58                     136          319                    1   \n",
              "627   38                     120          231                    0   \n",
              "721   45                     115          260                    0   \n",
              "37    59                     138          271                    0   \n",
              "820   61                     140          207                    0   \n",
              "\n",
              "     max_heart_rate_achieved  exercise_induced_angina  st_depression  \\\n",
              "390                      152                        0            0.0   \n",
              "627                      182                        1            3.8   \n",
              "721                      185                        0            0.0   \n",
              "37                       182                        0            0.0   \n",
              "820                      138                        1            1.9   \n",
              "\n",
              "     nb_vessels  sex_male  chest_pain_type_atypical angina  \\\n",
              "390           2         0                                0   \n",
              "627           0         1                                0   \n",
              "721           0         1                                0   \n",
              "37            0         1                                0   \n",
              "820           1         1                                0   \n",
              "\n",
              "     chest_pain_type_non-anginal pain  chest_pain_type_typical angina  \\\n",
              "390                                 0                               1   \n",
              "627                                 1                               0   \n",
              "721                                 0                               0   \n",
              "37                                  0                               0   \n",
              "820                                 0                               0   \n",
              "\n",
              "     rest_ecg_left ventricular hypertrophy  rest_ecg_normal  st_slope_flat  \\\n",
              "390                                      0                1              0   \n",
              "627                                      0                0              1   \n",
              "721                                      0                1              0   \n",
              "37                                       0                1              0   \n",
              "820                                      0                1              0   \n",
              "\n",
              "     st_slope_upsloping  thal_défaut fixe  thal_défaut réversible  thal_normal  \n",
              "390                   0                 0                       1            0  \n",
              "627                   0                 0                       0            0  \n",
              "721                   0                 0                       1            0  \n",
              "37                    0                 0                       1            0  \n",
              "820                   0                 0                       0            0  "
            ],
            "text/html": [
              "\n",
              "  <div id=\"df-749ae8e6-7b70-4051-a0e0-e8b7d8ea31c5\">\n",
              "    <div class=\"colab-df-container\">\n",
              "      <div>\n",
              "<style scoped>\n",
              "    .dataframe tbody tr th:only-of-type {\n",
              "        vertical-align: middle;\n",
              "    }\n",
              "\n",
              "    .dataframe tbody tr th {\n",
              "        vertical-align: top;\n",
              "    }\n",
              "\n",
              "    .dataframe thead th {\n",
              "        text-align: right;\n",
              "    }\n",
              "</style>\n",
              "<table border=\"1\" class=\"dataframe\">\n",
              "  <thead>\n",
              "    <tr style=\"text-align: right;\">\n",
              "      <th></th>\n",
              "      <th>age</th>\n",
              "      <th>resting_blood_pressure</th>\n",
              "      <th>cholesterol</th>\n",
              "      <th>fasting_blood_sugar</th>\n",
              "      <th>max_heart_rate_achieved</th>\n",
              "      <th>exercise_induced_angina</th>\n",
              "      <th>st_depression</th>\n",
              "      <th>nb_vessels</th>\n",
              "      <th>sex_male</th>\n",
              "      <th>chest_pain_type_atypical angina</th>\n",
              "      <th>chest_pain_type_non-anginal pain</th>\n",
              "      <th>chest_pain_type_typical angina</th>\n",
              "      <th>rest_ecg_left ventricular hypertrophy</th>\n",
              "      <th>rest_ecg_normal</th>\n",
              "      <th>st_slope_flat</th>\n",
              "      <th>st_slope_upsloping</th>\n",
              "      <th>thal_défaut fixe</th>\n",
              "      <th>thal_défaut réversible</th>\n",
              "      <th>thal_normal</th>\n",
              "    </tr>\n",
              "  </thead>\n",
              "  <tbody>\n",
              "    <tr>\n",
              "      <th>390</th>\n",
              "      <td>58</td>\n",
              "      <td>136</td>\n",
              "      <td>319</td>\n",
              "      <td>1</td>\n",
              "      <td>152</td>\n",
              "      <td>0</td>\n",
              "      <td>0.0</td>\n",
              "      <td>2</td>\n",
              "      <td>0</td>\n",
              "      <td>0</td>\n",
              "      <td>0</td>\n",
              "      <td>1</td>\n",
              "      <td>0</td>\n",
              "      <td>1</td>\n",
              "      <td>0</td>\n",
              "      <td>0</td>\n",
              "      <td>0</td>\n",
              "      <td>1</td>\n",
              "      <td>0</td>\n",
              "    </tr>\n",
              "    <tr>\n",
              "      <th>627</th>\n",
              "      <td>38</td>\n",
              "      <td>120</td>\n",
              "      <td>231</td>\n",
              "      <td>0</td>\n",
              "      <td>182</td>\n",
              "      <td>1</td>\n",
              "      <td>3.8</td>\n",
              "      <td>0</td>\n",
              "      <td>1</td>\n",
              "      <td>0</td>\n",
              "      <td>1</td>\n",
              "      <td>0</td>\n",
              "      <td>0</td>\n",
              "      <td>0</td>\n",
              "      <td>1</td>\n",
              "      <td>0</td>\n",
              "      <td>0</td>\n",
              "      <td>0</td>\n",
              "      <td>0</td>\n",
              "    </tr>\n",
              "    <tr>\n",
              "      <th>721</th>\n",
              "      <td>45</td>\n",
              "      <td>115</td>\n",
              "      <td>260</td>\n",
              "      <td>0</td>\n",
              "      <td>185</td>\n",
              "      <td>0</td>\n",
              "      <td>0.0</td>\n",
              "      <td>0</td>\n",
              "      <td>1</td>\n",
              "      <td>0</td>\n",
              "      <td>0</td>\n",
              "      <td>0</td>\n",
              "      <td>0</td>\n",
              "      <td>1</td>\n",
              "      <td>0</td>\n",
              "      <td>0</td>\n",
              "      <td>0</td>\n",
              "      <td>1</td>\n",
              "      <td>0</td>\n",
              "    </tr>\n",
              "    <tr>\n",
              "      <th>37</th>\n",
              "      <td>59</td>\n",
              "      <td>138</td>\n",
              "      <td>271</td>\n",
              "      <td>0</td>\n",
              "      <td>182</td>\n",
              "      <td>0</td>\n",
              "      <td>0.0</td>\n",
              "      <td>0</td>\n",
              "      <td>1</td>\n",
              "      <td>0</td>\n",
              "      <td>0</td>\n",
              "      <td>0</td>\n",
              "      <td>0</td>\n",
              "      <td>1</td>\n",
              "      <td>0</td>\n",
              "      <td>0</td>\n",
              "      <td>0</td>\n",
              "      <td>1</td>\n",
              "      <td>0</td>\n",
              "    </tr>\n",
              "    <tr>\n",
              "      <th>820</th>\n",
              "      <td>61</td>\n",
              "      <td>140</td>\n",
              "      <td>207</td>\n",
              "      <td>0</td>\n",
              "      <td>138</td>\n",
              "      <td>1</td>\n",
              "      <td>1.9</td>\n",
              "      <td>1</td>\n",
              "      <td>1</td>\n",
              "      <td>0</td>\n",
              "      <td>0</td>\n",
              "      <td>0</td>\n",
              "      <td>0</td>\n",
              "      <td>1</td>\n",
              "      <td>0</td>\n",
              "      <td>0</td>\n",
              "      <td>0</td>\n",
              "      <td>0</td>\n",
              "      <td>0</td>\n",
              "    </tr>\n",
              "  </tbody>\n",
              "</table>\n",
              "</div>\n",
              "      <button class=\"colab-df-convert\" onclick=\"convertToInteractive('df-749ae8e6-7b70-4051-a0e0-e8b7d8ea31c5')\"\n",
              "              title=\"Convert this dataframe to an interactive table.\"\n",
              "              style=\"display:none;\">\n",
              "        \n",
              "  <svg xmlns=\"http://www.w3.org/2000/svg\" height=\"24px\"viewBox=\"0 0 24 24\"\n",
              "       width=\"24px\">\n",
              "    <path d=\"M0 0h24v24H0V0z\" fill=\"none\"/>\n",
              "    <path d=\"M18.56 5.44l.94 2.06.94-2.06 2.06-.94-2.06-.94-.94-2.06-.94 2.06-2.06.94zm-11 1L8.5 8.5l.94-2.06 2.06-.94-2.06-.94L8.5 2.5l-.94 2.06-2.06.94zm10 10l.94 2.06.94-2.06 2.06-.94-2.06-.94-.94-2.06-.94 2.06-2.06.94z\"/><path d=\"M17.41 7.96l-1.37-1.37c-.4-.4-.92-.59-1.43-.59-.52 0-1.04.2-1.43.59L10.3 9.45l-7.72 7.72c-.78.78-.78 2.05 0 2.83L4 21.41c.39.39.9.59 1.41.59.51 0 1.02-.2 1.41-.59l7.78-7.78 2.81-2.81c.8-.78.8-2.07 0-2.86zM5.41 20L4 18.59l7.72-7.72 1.47 1.35L5.41 20z\"/>\n",
              "  </svg>\n",
              "      </button>\n",
              "      \n",
              "  <style>\n",
              "    .colab-df-container {\n",
              "      display:flex;\n",
              "      flex-wrap:wrap;\n",
              "      gap: 12px;\n",
              "    }\n",
              "\n",
              "    .colab-df-convert {\n",
              "      background-color: #E8F0FE;\n",
              "      border: none;\n",
              "      border-radius: 50%;\n",
              "      cursor: pointer;\n",
              "      display: none;\n",
              "      fill: #1967D2;\n",
              "      height: 32px;\n",
              "      padding: 0 0 0 0;\n",
              "      width: 32px;\n",
              "    }\n",
              "\n",
              "    .colab-df-convert:hover {\n",
              "      background-color: #E2EBFA;\n",
              "      box-shadow: 0px 1px 2px rgba(60, 64, 67, 0.3), 0px 1px 3px 1px rgba(60, 64, 67, 0.15);\n",
              "      fill: #174EA6;\n",
              "    }\n",
              "\n",
              "    [theme=dark] .colab-df-convert {\n",
              "      background-color: #3B4455;\n",
              "      fill: #D2E3FC;\n",
              "    }\n",
              "\n",
              "    [theme=dark] .colab-df-convert:hover {\n",
              "      background-color: #434B5C;\n",
              "      box-shadow: 0px 1px 3px 1px rgba(0, 0, 0, 0.15);\n",
              "      filter: drop-shadow(0px 1px 2px rgba(0, 0, 0, 0.3));\n",
              "      fill: #FFFFFF;\n",
              "    }\n",
              "  </style>\n",
              "\n",
              "      <script>\n",
              "        const buttonEl =\n",
              "          document.querySelector('#df-749ae8e6-7b70-4051-a0e0-e8b7d8ea31c5 button.colab-df-convert');\n",
              "        buttonEl.style.display =\n",
              "          google.colab.kernel.accessAllowed ? 'block' : 'none';\n",
              "\n",
              "        async function convertToInteractive(key) {\n",
              "          const element = document.querySelector('#df-749ae8e6-7b70-4051-a0e0-e8b7d8ea31c5');\n",
              "          const dataTable =\n",
              "            await google.colab.kernel.invokeFunction('convertToInteractive',\n",
              "                                                     [key], {});\n",
              "          if (!dataTable) return;\n",
              "\n",
              "          const docLinkHtml = 'Like what you see? Visit the ' +\n",
              "            '<a target=\"_blank\" href=https://colab.research.google.com/notebooks/data_table.ipynb>data table notebook</a>'\n",
              "            + ' to learn more about interactive tables.';\n",
              "          element.innerHTML = '';\n",
              "          dataTable['output_type'] = 'display_data';\n",
              "          await google.colab.output.renderOutput(dataTable, element);\n",
              "          const docLink = document.createElement('div');\n",
              "          docLink.innerHTML = docLinkHtml;\n",
              "          element.appendChild(docLink);\n",
              "        }\n",
              "      </script>\n",
              "    </div>\n",
              "  </div>\n",
              "  "
            ]
          },
          "metadata": {},
          "execution_count": 44
        }
      ],
      "source": [
        "# X_test[['age','resting_blood_pressure','cholesterol','max_heart_rate_achieved','st_depression']] = scaler.transform(X_test[['age','resting_blood_pressure','cholesterol','max_heart_rate_achieved','st_depression']])\n",
        "X_test.head()"
      ]
    },
    {
      "cell_type": "markdown",
      "id": "f1c3c8c5",
      "metadata": {
        "id": "f1c3c8c5"
      },
      "source": [
        "# Extra Tree Classifier "
      ]
    },
    {
      "cell_type": "code",
      "execution_count": null,
      "id": "89ed3a78",
      "metadata": {
        "id": "89ed3a78"
      },
      "outputs": [],
      "source": [
        "from sklearn.ensemble import ExtraTreesClassifier\n",
        "et= ExtraTreesClassifier()\n",
        "et.fit(X_train,y_train)\n",
        "y_pred_et = et.predict(X_test)"
      ]
    },
    {
      "cell_type": "code",
      "source": [
        "from sklearn.metrics import accuracy_score\n",
        "accuracy_score(y_test,y_pred_et)"
      ],
      "metadata": {
        "colab": {
          "base_uri": "https://localhost:8080/"
        },
        "id": "usffl_NK5bho",
        "outputId": "f3e5f50d-9318-48b8-ca68-d6cdbaf38ecb"
      },
      "id": "usffl_NK5bho",
      "execution_count": null,
      "outputs": [
        {
          "output_type": "execute_result",
          "data": {
            "text/plain": [
              "0.8855721393034826"
            ]
          },
          "metadata": {},
          "execution_count": 46
        }
      ]
    },
    {
      "cell_type": "markdown",
      "source": [
        "# Random forest"
      ],
      "metadata": {
        "id": "xV1P-42F7LDM"
      },
      "id": "xV1P-42F7LDM"
    },
    {
      "cell_type": "code",
      "source": [
        "from sklearn.ensemble import RandomForestClassifier\n",
        "rf= RandomForestClassifier()\n",
        "rf.fit(X_train,y_train)\n",
        "y_pred_rf = rf.predict(X_test)"
      ],
      "metadata": {
        "id": "jKtobJ7D7P_X"
      },
      "id": "jKtobJ7D7P_X",
      "execution_count": null,
      "outputs": []
    },
    {
      "cell_type": "code",
      "source": [
        "from sklearn.metrics import accuracy_score\n",
        "accuracy_score(y_test,y_pred_rf)"
      ],
      "metadata": {
        "colab": {
          "base_uri": "https://localhost:8080/"
        },
        "id": "Cowwq7PV7ylr",
        "outputId": "a8c5586a-1944-42f4-fad3-bd348f7963b5"
      },
      "id": "Cowwq7PV7ylr",
      "execution_count": null,
      "outputs": [
        {
          "output_type": "execute_result",
          "data": {
            "text/plain": [
              "0.845771144278607"
            ]
          },
          "metadata": {},
          "execution_count": 48
        }
      ]
    },
    {
      "cell_type": "markdown",
      "source": [
        "# Desition tree"
      ],
      "metadata": {
        "id": "316hdy4y8XJX"
      },
      "id": "316hdy4y8XJX"
    },
    {
      "cell_type": "code",
      "source": [
        "from sklearn.tree import DecisionTreeClassifier\n",
        "dt= DecisionTreeClassifier()\n",
        "dt.fit(X_train,y_train)\n",
        "y_pred_dt = dt.predict(X_test)"
      ],
      "metadata": {
        "id": "HbIzHfwZ8XcQ"
      },
      "id": "HbIzHfwZ8XcQ",
      "execution_count": null,
      "outputs": []
    },
    {
      "cell_type": "code",
      "source": [
        "from sklearn.metrics import accuracy_score\n",
        "accuracy_score(y_test,y_pred_dt)"
      ],
      "metadata": {
        "colab": {
          "base_uri": "https://localhost:8080/"
        },
        "id": "xSdT-Xrm8Xrb",
        "outputId": "0f6ed883-0838-499b-fd97-abab8b4a4e96"
      },
      "id": "xSdT-Xrm8Xrb",
      "execution_count": null,
      "outputs": [
        {
          "output_type": "execute_result",
          "data": {
            "text/plain": [
              "0.6218905472636815"
            ]
          },
          "metadata": {},
          "execution_count": 50
        }
      ]
    },
    {
      "cell_type": "markdown",
      "source": [
        "# svm"
      ],
      "metadata": {
        "id": "rFe3cN5e9fQQ"
      },
      "id": "rFe3cN5e9fQQ"
    },
    {
      "cell_type": "code",
      "source": [
        "from sklearn.svm import SVC\n",
        "svm = SVC()\n",
        "svm.fit(X_train,y_train)\n",
        "y_pred_svm = svm.predict(X_test)"
      ],
      "metadata": {
        "id": "yv90FNR89Eog"
      },
      "id": "yv90FNR89Eog",
      "execution_count": null,
      "outputs": []
    },
    {
      "cell_type": "code",
      "source": [
        "from sklearn.metrics import accuracy_score\n",
        "accuracy_score(y_test,y_pred_svm)"
      ],
      "metadata": {
        "colab": {
          "base_uri": "https://localhost:8080/"
        },
        "id": "jamyGiec9Es9",
        "outputId": "da3ef751-dab8-42c9-e35e-689c0052a2a2"
      },
      "id": "jamyGiec9Es9",
      "execution_count": null,
      "outputs": [
        {
          "output_type": "execute_result",
          "data": {
            "text/plain": [
              "0.5174129353233831"
            ]
          },
          "metadata": {},
          "execution_count": 52
        }
      ]
    },
    {
      "cell_type": "markdown",
      "source": [
        "# Hyperparameter tuning"
      ],
      "metadata": {
        "id": "tktId_Ip_VD8"
      },
      "id": "tktId_Ip_VD8"
    },
    {
      "cell_type": "code",
      "source": [
        "param_dist = {\n",
        "     \"criterion\":['gini','entropy'],\n",
        "      'max_depth':[1,2,3,4,5,6,7,None]\n",
        "}"
      ],
      "metadata": {
        "id": "Wq6MWLG97Eti"
      },
      "id": "Wq6MWLG97Eti",
      "execution_count": null,
      "outputs": []
    },
    {
      "cell_type": "code",
      "source": [
        "from sklearn.model_selection import GridSearchCV\n",
        "grid_search_cv_et = GridSearchCV(et, param_grid=param_dist, cv = 10, n_jobs = -1) "
      ],
      "metadata": {
        "id": "9ZMkpIlA7Ewi"
      },
      "id": "9ZMkpIlA7Ewi",
      "execution_count": null,
      "outputs": []
    },
    {
      "cell_type": "code",
      "source": [
        "grid_search_cv_et.fit(X_train,y_train)"
      ],
      "metadata": {
        "colab": {
          "base_uri": "https://localhost:8080/",
          "height": 117
        },
        "id": "d1JEWiUE7Eza",
        "outputId": "6700aa29-59fc-4f56-b124-8f8174b2a0e9"
      },
      "id": "d1JEWiUE7Eza",
      "execution_count": null,
      "outputs": [
        {
          "output_type": "execute_result",
          "data": {
            "text/plain": [
              "GridSearchCV(cv=10, estimator=ExtraTreesClassifier(), n_jobs=-1,\n",
              "             param_grid={'criterion': ['gini', 'entropy'],\n",
              "                         'max_depth': [1, 2, 3, 4, 5, 6, 7, None]})"
            ],
            "text/html": [
              "<style>#sk-container-id-1 {color: black;background-color: white;}#sk-container-id-1 pre{padding: 0;}#sk-container-id-1 div.sk-toggleable {background-color: white;}#sk-container-id-1 label.sk-toggleable__label {cursor: pointer;display: block;width: 100%;margin-bottom: 0;padding: 0.3em;box-sizing: border-box;text-align: center;}#sk-container-id-1 label.sk-toggleable__label-arrow:before {content: \"▸\";float: left;margin-right: 0.25em;color: #696969;}#sk-container-id-1 label.sk-toggleable__label-arrow:hover:before {color: black;}#sk-container-id-1 div.sk-estimator:hover label.sk-toggleable__label-arrow:before {color: black;}#sk-container-id-1 div.sk-toggleable__content {max-height: 0;max-width: 0;overflow: hidden;text-align: left;background-color: #f0f8ff;}#sk-container-id-1 div.sk-toggleable__content pre {margin: 0.2em;color: black;border-radius: 0.25em;background-color: #f0f8ff;}#sk-container-id-1 input.sk-toggleable__control:checked~div.sk-toggleable__content {max-height: 200px;max-width: 100%;overflow: auto;}#sk-container-id-1 input.sk-toggleable__control:checked~label.sk-toggleable__label-arrow:before {content: \"▾\";}#sk-container-id-1 div.sk-estimator input.sk-toggleable__control:checked~label.sk-toggleable__label {background-color: #d4ebff;}#sk-container-id-1 div.sk-label input.sk-toggleable__control:checked~label.sk-toggleable__label {background-color: #d4ebff;}#sk-container-id-1 input.sk-hidden--visually {border: 0;clip: rect(1px 1px 1px 1px);clip: rect(1px, 1px, 1px, 1px);height: 1px;margin: -1px;overflow: hidden;padding: 0;position: absolute;width: 1px;}#sk-container-id-1 div.sk-estimator {font-family: monospace;background-color: #f0f8ff;border: 1px dotted black;border-radius: 0.25em;box-sizing: border-box;margin-bottom: 0.5em;}#sk-container-id-1 div.sk-estimator:hover {background-color: #d4ebff;}#sk-container-id-1 div.sk-parallel-item::after {content: \"\";width: 100%;border-bottom: 1px solid gray;flex-grow: 1;}#sk-container-id-1 div.sk-label:hover label.sk-toggleable__label {background-color: #d4ebff;}#sk-container-id-1 div.sk-serial::before {content: \"\";position: absolute;border-left: 1px solid gray;box-sizing: border-box;top: 0;bottom: 0;left: 50%;z-index: 0;}#sk-container-id-1 div.sk-serial {display: flex;flex-direction: column;align-items: center;background-color: white;padding-right: 0.2em;padding-left: 0.2em;position: relative;}#sk-container-id-1 div.sk-item {position: relative;z-index: 1;}#sk-container-id-1 div.sk-parallel {display: flex;align-items: stretch;justify-content: center;background-color: white;position: relative;}#sk-container-id-1 div.sk-item::before, #sk-container-id-1 div.sk-parallel-item::before {content: \"\";position: absolute;border-left: 1px solid gray;box-sizing: border-box;top: 0;bottom: 0;left: 50%;z-index: -1;}#sk-container-id-1 div.sk-parallel-item {display: flex;flex-direction: column;z-index: 1;position: relative;background-color: white;}#sk-container-id-1 div.sk-parallel-item:first-child::after {align-self: flex-end;width: 50%;}#sk-container-id-1 div.sk-parallel-item:last-child::after {align-self: flex-start;width: 50%;}#sk-container-id-1 div.sk-parallel-item:only-child::after {width: 0;}#sk-container-id-1 div.sk-dashed-wrapped {border: 1px dashed gray;margin: 0 0.4em 0.5em 0.4em;box-sizing: border-box;padding-bottom: 0.4em;background-color: white;}#sk-container-id-1 div.sk-label label {font-family: monospace;font-weight: bold;display: inline-block;line-height: 1.2em;}#sk-container-id-1 div.sk-label-container {text-align: center;}#sk-container-id-1 div.sk-container {/* jupyter's `normalize.less` sets `[hidden] { display: none; }` but bootstrap.min.css set `[hidden] { display: none !important; }` so we also need the `!important` here to be able to override the default hidden behavior on the sphinx rendered scikit-learn.org. See: https://github.com/scikit-learn/scikit-learn/issues/21755 */display: inline-block !important;position: relative;}#sk-container-id-1 div.sk-text-repr-fallback {display: none;}</style><div id=\"sk-container-id-1\" class=\"sk-top-container\"><div class=\"sk-text-repr-fallback\"><pre>GridSearchCV(cv=10, estimator=ExtraTreesClassifier(), n_jobs=-1,\n",
              "             param_grid={&#x27;criterion&#x27;: [&#x27;gini&#x27;, &#x27;entropy&#x27;],\n",
              "                         &#x27;max_depth&#x27;: [1, 2, 3, 4, 5, 6, 7, None]})</pre><b>In a Jupyter environment, please rerun this cell to show the HTML representation or trust the notebook. <br />On GitHub, the HTML representation is unable to render, please try loading this page with nbviewer.org.</b></div><div class=\"sk-container\" hidden><div class=\"sk-item sk-dashed-wrapped\"><div class=\"sk-label-container\"><div class=\"sk-label sk-toggleable\"><input class=\"sk-toggleable__control sk-hidden--visually\" id=\"sk-estimator-id-1\" type=\"checkbox\" ><label for=\"sk-estimator-id-1\" class=\"sk-toggleable__label sk-toggleable__label-arrow\">GridSearchCV</label><div class=\"sk-toggleable__content\"><pre>GridSearchCV(cv=10, estimator=ExtraTreesClassifier(), n_jobs=-1,\n",
              "             param_grid={&#x27;criterion&#x27;: [&#x27;gini&#x27;, &#x27;entropy&#x27;],\n",
              "                         &#x27;max_depth&#x27;: [1, 2, 3, 4, 5, 6, 7, None]})</pre></div></div></div><div class=\"sk-parallel\"><div class=\"sk-parallel-item\"><div class=\"sk-item\"><div class=\"sk-label-container\"><div class=\"sk-label sk-toggleable\"><input class=\"sk-toggleable__control sk-hidden--visually\" id=\"sk-estimator-id-2\" type=\"checkbox\" ><label for=\"sk-estimator-id-2\" class=\"sk-toggleable__label sk-toggleable__label-arrow\">estimator: ExtraTreesClassifier</label><div class=\"sk-toggleable__content\"><pre>ExtraTreesClassifier()</pre></div></div></div><div class=\"sk-serial\"><div class=\"sk-item\"><div class=\"sk-estimator sk-toggleable\"><input class=\"sk-toggleable__control sk-hidden--visually\" id=\"sk-estimator-id-3\" type=\"checkbox\" ><label for=\"sk-estimator-id-3\" class=\"sk-toggleable__label sk-toggleable__label-arrow\">ExtraTreesClassifier</label><div class=\"sk-toggleable__content\"><pre>ExtraTreesClassifier()</pre></div></div></div></div></div></div></div></div></div></div>"
            ]
          },
          "metadata": {},
          "execution_count": 55
        }
      ]
    },
    {
      "cell_type": "code",
      "source": [
        "grid_search_cv_et.best_score_"
      ],
      "metadata": {
        "colab": {
          "base_uri": "https://localhost:8080/"
        },
        "id": "JQlzHyGJ7E24",
        "outputId": "97d4a8b3-0680-42b3-989f-6b3c6983a86e"
      },
      "id": "JQlzHyGJ7E24",
      "execution_count": null,
      "outputs": [
        {
          "output_type": "execute_result",
          "data": {
            "text/plain": [
              "0.9912500000000002"
            ]
          },
          "metadata": {},
          "execution_count": 56
        }
      ]
    },
    {
      "cell_type": "markdown",
      "source": [
        "# roc"
      ],
      "metadata": {
        "id": "f32iqawPN9M2"
      },
      "id": "f32iqawPN9M2"
    },
    {
      "cell_type": "code",
      "source": [
        "def roc_auc_plot(y_true, y_proba, label=' ', l='-', lw=1.0):\n",
        "    from sklearn.metrics import roc_curve, roc_auc_score\n",
        "    fpr, tpr, _ = roc_curve(y_true, y_proba[:,1])\n",
        "    ax.plot(fpr, tpr, linestyle=l, linewidth=lw,\n",
        "            label=\"%s (area=%.3f)\"%(label,roc_auc_score(y_true, y_proba[:,1])))\n",
        "\n",
        "f, ax = plt.subplots(figsize=(12,8))\n",
        "\n",
        "\n",
        "roc_auc_plot(y_test,et.predict_proba(X_test),label='Extra Tree Classifier ',l='-')\n",
        "roc_auc_plot(y_test,rf.predict_proba(X_test),label='Logistic Regression ',l='-')\n",
        "roc_auc_plot(y_test,dt.predict_proba(X_test),label='Naive Bayes',l='-')\n",
        "\n",
        "\n",
        "ax.plot([0,1], [0,1], color='k', linewidth=0.5, linestyle='--', \n",
        "        )    \n",
        "ax.legend(loc=\"lower right\")    \n",
        "ax.set_xlabel('False Positive Rate')\n",
        "ax.set_ylabel('True Positive Rate')\n",
        "ax.set_xlim([0, 1])\n",
        "ax.set_ylim([0, 1])\n",
        "ax.set_title('Receiver Operator Characteristic curves')\n",
        "sns.despine()"
      ],
      "metadata": {
        "colab": {
          "base_uri": "https://localhost:8080/",
          "height": 513
        },
        "id": "yqTZ2tDz-WR9",
        "outputId": "c5886bff-6c48-4ad3-f8f5-3e333a19286d"
      },
      "id": "yqTZ2tDz-WR9",
      "execution_count": null,
      "outputs": [
        {
          "output_type": "display_data",
          "data": {
            "text/plain": [
              "<Figure size 864x576 with 1 Axes>"
            ],
            "image/png": "[encoded data removed]"
          },
          "metadata": {
            "needs_background": "light"
          }
        }
      ]
    },
    {
      "cell_type": "markdown",
      "source": [
        "# Precision Recall curve"
      ],
      "metadata": {
        "id": "QiKEtWtgOElA"
      },
      "id": "QiKEtWtgOElA"
    },
    {
      "cell_type": "code",
      "source": [
        "def precision_recall_plot(y_true, y_proba, label=' ', l='-', lw=1.0):\n",
        "    from sklearn.metrics import precision_recall_curve, average_precision_score\n",
        "    precision, recall, _ = precision_recall_curve(y_test,\n",
        "                                                  y_proba[:,1])\n",
        "    average_precision = average_precision_score(y_test, y_proba[:,1],\n",
        "                                                     average=\"micro\")\n",
        "    ax.plot(recall, precision, label='%s (average=%.3f)'%(label,average_precision),\n",
        "            linestyle=l, linewidth=lw)\n",
        "\n",
        "f, ax = plt.subplots(figsize=(14,10))\n",
        "\n",
        "\n",
        "precision_recall_plot(y_test,et.predict_proba(X_test),label='Fuzzy Gini Extra Tree Classifier ',l='-')\n",
        "precision_recall_plot(y_test,rf.predict_proba(X_test),label='Logistic Regression ',l='-')\n",
        "precision_recall_plot(y_test,dt.predict_proba(X_test),label='Naive Bayes',l='-')\n",
        "ax.set_xlabel('Recall')\n",
        "ax.set_ylabel('Precision')\n",
        "ax.legend(loc=\"lower left\")\n",
        "ax.grid(True)\n",
        "ax.set_xlim([0, 1])\n",
        "ax.set_ylim([0, 1])\n",
        "ax.set_title('Precision-recall curves')\n",
        "sns.despine()"
      ],
      "metadata": {
        "id": "tp1xMsB8-WWN",
        "colab": {
          "base_uri": "https://localhost:8080/",
          "height": 621
        },
        "outputId": "8055a426-7240-4550-8d2f-92c5ccacc4e4"
      },
      "id": "tp1xMsB8-WWN",
      "execution_count": null,
      "outputs": [
        {
          "output_type": "display_data",
          "data": {
            "text/plain": [
              "<Figure size 1008x720 with 1 Axes>"
            ],
            "image/png": "[encoded data removed]"
          },
          "metadata": {
            "needs_background": "light"
          }
        }
      ]
    },
    {
      "cell_type": "code",
      "source": [],
      "metadata": {
        "id": "vRu0_wz7-XQ7"
      },
      "id": "vRu0_wz7-XQ7",
      "execution_count": null,
      "outputs": []
    },
    {
      "cell_type": "code",
      "source": [],
      "metadata": {
        "id": "Sz511744-Xpr"
      },
      "id": "Sz511744-Xpr",
      "execution_count": null,
      "outputs": []
    }
  ],
  "metadata": {
    "kernelspec": {
      "display_name": "Python 3 (ipykernel)",
      "language": "python",
      "name": "python3"
    },
    "language_info": {
      "codemirror_mode": {
        "name": "ipython",
        "version": 3
      },
      "file_extension": ".py",
      "mimetype": "text/x-python",
      "name": "python",
      "nbconvert_exporter": "python",
      "pygments_lexer": "ipython3",
      "version": "3.9.12"
    },
    "colab": {
      "provenance": [],
      "include_colab_link": true
    }
  },
  "nbformat": 4,
  "nbformat_minor": 5
}